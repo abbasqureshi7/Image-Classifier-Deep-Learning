{
 "cells": [
  {
   "cell_type": "code",
   "execution_count": 1,
   "metadata": {},
   "outputs": [
    {
     "name": "stderr",
     "output_type": "stream",
     "text": [
      "Using TensorFlow backend.\n"
     ]
    },
    {
     "data": {
      "text/html": [
       "<script type=\"text/javascript\">window.PlotlyConfig = {MathJaxConfig: 'local'};</script><script type=\"text/javascript\">if (window.MathJax) {MathJax.Hub.Config({SVG: {font: \"STIX-Web\"}});}</script><script>requirejs.config({paths: { 'plotly': ['https://cdn.plot.ly/plotly-latest.min']},});if(!window._Plotly) {require(['plotly'],function(plotly) {window._Plotly=plotly;});}</script>"
      ],
      "text/vnd.plotly.v1+html": [
       "<script type=\"text/javascript\">window.PlotlyConfig = {MathJaxConfig: 'local'};</script><script type=\"text/javascript\">if (window.MathJax) {MathJax.Hub.Config({SVG: {font: \"STIX-Web\"}});}</script><script>requirejs.config({paths: { 'plotly': ['https://cdn.plot.ly/plotly-latest.min']},});if(!window._Plotly) {require(['plotly'],function(plotly) {window._Plotly=plotly;});}</script>"
      ]
     },
     "metadata": {},
     "output_type": "display_data"
    }
   ],
   "source": [
    "import numpy as np\n",
    "import pandas as pd\n",
    "from sklearn.model_selection import train_test_split\n",
    "from sklearn.metrics import classification_report\n",
    "from tensorflow.python import keras\n",
    "from tensorflow.python.keras.models import Sequential\n",
    "from tensorflow.python.keras.layers import Dense, Flatten, Conv2D, Dropout, MaxPooling2D\n",
    "from IPython.display import SVG\n",
    "from keras.utils.vis_utils import model_to_dot\n",
    "from keras.utils import plot_model\n",
    "import seaborn as sns\n",
    "import matplotlib.pyplot as plt\n",
    "%matplotlib inline \n",
    "import plotly.graph_objs as go\n",
    "import plotly.figure_factory as ff\n",
    "from plotly import tools\n",
    "from plotly.offline import download_plotlyjs, init_notebook_mode, plot, iplot\n",
    "init_notebook_mode(connected=True)"
   ]
  },
  {
   "cell_type": "code",
   "execution_count": 3,
   "metadata": {},
   "outputs": [],
   "source": [
    "train_data = pd.read_csv(\"fashionmnist/fashion-mnist_train.csv\")\n",
    "test_data = pd.read_csv(\"fashionmnist/fashion-mnist_test.csv\")"
   ]
  },
  {
   "cell_type": "code",
   "execution_count": 6,
   "metadata": {},
   "outputs": [
    {
     "name": "stdout",
     "output_type": "stream",
     "text": [
      "train - rows: 60000  columns: 785\n",
      "test - rows: 10000  columns: 785\n"
     ]
    }
   ],
   "source": [
    "#lets check the shape of these two datasets\n",
    "print(\"train - rows:\",train_data.shape[0],\" columns:\", train_data.shape[1])\n",
    "print(\"test - rows:\",test_data.shape[0],\" columns:\", test_data.shape[1])"
   ]
  },
  {
   "cell_type": "code",
   "execution_count": 7,
   "metadata": {},
   "outputs": [],
   "source": [
    "# Create a dictionary for each type of label \n",
    "labels = {0 : \"T-shirt/top\", 1: \"Trouser\", 2: \"Pullover\", 3: \"Dress\", 4: \"Coat\",\n",
    "          5: \"Sandal\", 6: \"Shirt\", 7: \"Sneaker\", 8: \"Bag\", 9: \"Ankle Boot\"}"
   ]
  },
  {
   "cell_type": "code",
   "execution_count": 9,
   "metadata": {},
   "outputs": [],
   "source": [
    "#get distribution of classes\n",
    "def get_classes_distribution(data):\n",
    "    #total count for each label\n",
    "    label_counts = data[\"label\"].value_counts()\n",
    "    \n",
    "    #total number of sample\n",
    "    total_samples = len(data)\n",
    "\n",
    "    # count number of items in each class\n",
    "    for i in range(len(label_counts)):\n",
    "        label = labels[label_counts.index[i]]\n",
    "        count = label_counts.values[i]\n",
    "        percent = (count / total_samples) * 100\n",
    "        print(\"{:<20s}:  {} or {}%\".format(label, count, percent))"
   ]
  },
  {
   "cell_type": "code",
   "execution_count": 10,
   "metadata": {},
   "outputs": [
    {
     "name": "stdout",
     "output_type": "stream",
     "text": [
      "Ankle Boot          :  6000 or 10.0%\n",
      "Bag                 :  6000 or 10.0%\n",
      "Sneaker             :  6000 or 10.0%\n",
      "Shirt               :  6000 or 10.0%\n",
      "Sandal              :  6000 or 10.0%\n",
      "Coat                :  6000 or 10.0%\n",
      "Dress               :  6000 or 10.0%\n",
      "Pullover            :  6000 or 10.0%\n",
      "Trouser             :  6000 or 10.0%\n",
      "T-shirt/top         :  6000 or 10.0%\n"
     ]
    }
   ],
   "source": [
    "get_classes_distribution(train_data)"
   ]
  },
  {
   "cell_type": "markdown",
   "metadata": {},
   "source": [
    "The classes are evenly distributed at 10% across the board."
   ]
  },
  {
   "cell_type": "markdown",
   "metadata": {},
   "source": [
    "Lets see what the test data says"
   ]
  },
  {
   "cell_type": "code",
   "execution_count": 12,
   "metadata": {},
   "outputs": [
    {
     "data": {
      "image/png": "[encoded data removed]",
      "text/plain": [
       "<Figure size 864x288 with 1 Axes>"
      ]
     },
     "metadata": {
      "needs_background": "light"
     },
     "output_type": "display_data"
    }
   ],
   "source": [
    "def plot_label_per_class(data):\n",
    "    f, ax = plt.subplots(1,1, figsize=(12,4))\n",
    "    g = sns.countplot(data.label, order = data[\"label\"].value_counts().index)\n",
    "    g.set_title(\"Number of labels for each class\")\n",
    "    \n",
    "    for p, label in zip(g.patches, data[\"label\"].value_counts().index):\n",
    "        g.annotate(labels[label], (p.get_x(), p.get_height()+0.1))\n",
    "    plt.show()\n",
    "\n",
    "plot_label_per_class(train_data)"
   ]
  },
  {
   "cell_type": "code",
   "execution_count": 13,
   "metadata": {},
   "outputs": [
    {
     "name": "stdout",
     "output_type": "stream",
     "text": [
      "Sneaker             :  1000 or 10.0%\n",
      "Shirt               :  1000 or 10.0%\n",
      "Sandal              :  1000 or 10.0%\n",
      "Coat                :  1000 or 10.0%\n",
      "Dress               :  1000 or 10.0%\n",
      "Pullover            :  1000 or 10.0%\n",
      "Ankle Boot          :  1000 or 10.0%\n",
      "Trouser             :  1000 or 10.0%\n",
      "Bag                 :  1000 or 10.0%\n",
      "T-shirt/top         :  1000 or 10.0%\n"
     ]
    }
   ],
   "source": [
    "get_classes_distribution(test_data)"
   ]
  },
  {
   "cell_type": "markdown",
   "metadata": {},
   "source": [
    "Same scenario as the train data"
   ]
  },
  {
   "cell_type": "markdown",
   "metadata": {},
   "source": [
    "Lets have a look at the images"
   ]
  },
  {
   "cell_type": "code",
   "execution_count": 15,
   "metadata": {},
   "outputs": [
    {
     "name": "stdout",
     "output_type": "stream",
     "text": [
      "Total number of sample images to plot:  40\n"
     ]
    }
   ],
   "source": [
    "img_rows = 28\n",
    "img_cols = 28\n",
    "\n",
    "def sample_images_data(data):\n",
    "    # An empty list to collect some samples\n",
    "    sample_images = []\n",
    "    sample_labels = []\n",
    "\n",
    "    # Iterate over the keys of the labels dictionary defined in the above cell\n",
    "    for k in labels.keys():\n",
    "        # Get four samples for each category\n",
    "        samples = data[data[\"label\"] == k].head(4)\n",
    "        # Append the samples to the samples list\n",
    "        for j, s in enumerate(samples.values):\n",
    "            # First column contain labels, hence index should start from 1\n",
    "            img = np.array(samples.iloc[j, 1:]).reshape(img_rows,img_cols)\n",
    "            sample_images.append(img)\n",
    "            sample_labels.append(samples.iloc[j, 0])\n",
    "\n",
    "    print(\"Total number of sample images to plot: \", len(sample_images))\n",
    "    return sample_images, sample_labels\n",
    "\n",
    "train_sample_images, train_sample_labels = sample_images_data(train_data)"
   ]
  },
  {
   "cell_type": "code",
   "execution_count": 16,
   "metadata": {},
   "outputs": [],
   "source": [
    "# Plot the images"
   ]
  },
  {
   "cell_type": "code",
   "execution_count": 17,
   "metadata": {},
   "outputs": [
    {
     "data": {
      "image/png": "[encoded data removed]",
      "text/plain": [
       "<Figure size 1152x720 with 40 Axes>"
      ]
     },
     "metadata": {
      "needs_background": "light"
     },
     "output_type": "display_data"
    }
   ],
   "source": [
    "def plot_sample_images(data_sample_images,data_sample_labels,cmap=\"Blues\"):\n",
    "    # Plot the sample images now\n",
    "    f, ax = plt.subplots(5,8, figsize=(16,10))\n",
    "\n",
    "    for i, img in enumerate(data_sample_images):\n",
    "        ax[i//8, i%8].imshow(img, cmap=cmap)\n",
    "        ax[i//8, i%8].axis('off')\n",
    "        ax[i//8, i%8].set_title(labels[data_sample_labels[i]])\n",
    "    plt.show()    \n",
    "    \n",
    "plot_sample_images(train_sample_images,train_sample_labels, \"Greens\")"
   ]
  },
  {
   "cell_type": "markdown",
   "metadata": {},
   "source": [
    "Same for the test data"
   ]
  },
  {
   "cell_type": "code",
   "execution_count": 18,
   "metadata": {},
   "outputs": [
    {
     "name": "stdout",
     "output_type": "stream",
     "text": [
      "Total number of sample images to plot:  40\n"
     ]
    },
    {
     "data": {
      "image/png": "[encoded data removed]",
      "text/plain": [
       "<Figure size 1152x720 with 40 Axes>"
      ]
     },
     "metadata": {
      "needs_background": "light"
     },
     "output_type": "display_data"
    }
   ],
   "source": [
    "test_sample_images, test_sample_labels = sample_images_data(test_data)\n",
    "plot_sample_images(test_sample_images,test_sample_labels)"
   ]
  },
  {
   "cell_type": "markdown",
   "metadata": {},
   "source": [
    "## Model Data"
   ]
  },
  {
   "cell_type": "markdown",
   "metadata": {},
   "source": [
    "Lets first preprocess our data so we can begin modelling it. I will change the columns from 784 to 28,28,1. "
   ]
  },
  {
   "cell_type": "code",
   "execution_count": 21,
   "metadata": {},
   "outputs": [],
   "source": [
    "num_classes = 10\n",
    "# data preprocessing\n",
    "def data_preprocessing(raw):\n",
    "    out_y = keras.utils.to_categorical(raw.label, num_classes)\n",
    "    num_images = raw.shape[0]\n",
    "    x_as_array = raw.values[:,1:]\n",
    "    x_shaped_array = x_as_array.reshape(num_images, img_rows, img_cols, 1)\n",
    "    out_x = x_shaped_array / 255\n",
    "    return out_x, out_y"
   ]
  },
  {
   "cell_type": "code",
   "execution_count": 22,
   "metadata": {},
   "outputs": [],
   "source": [
    "# prepare the data\n",
    "X, y = data_preprocessing(train_data)\n",
    "X_test, y_test = data_preprocessing(test_data)"
   ]
  },
  {
   "cell_type": "markdown",
   "metadata": {},
   "source": [
    "## Split and Train"
   ]
  },
  {
   "cell_type": "code",
   "execution_count": 23,
   "metadata": {},
   "outputs": [],
   "source": [
    "X_train, X_val, y_train, y_val = train_test_split(X, y, test_size=0.2, random_state=2018)"
   ]
  },
  {
   "cell_type": "code",
   "execution_count": 24,
   "metadata": {},
   "outputs": [
    {
     "name": "stdout",
     "output_type": "stream",
     "text": [
      "Fashion MNIST train -  rows: 48000  columns: (28, 28, 1)\n",
      "Fashion MNIST valid -  rows: 12000  columns: (28, 28, 1)\n",
      "Fashion MNIST test -  rows: 10000  columns: (28, 28, 1)\n"
     ]
    }
   ],
   "source": [
    "print(\"Fashion MNIST train -  rows:\",X_train.shape[0],\" columns:\", X_train.shape[1:4])\n",
    "print(\"Fashion MNIST valid -  rows:\",X_val.shape[0],\" columns:\", X_val.shape[1:4])\n",
    "print(\"Fashion MNIST test -  rows:\",X_test.shape[0],\" columns:\", X_test.shape[1:4])"
   ]
  },
  {
   "cell_type": "markdown",
   "metadata": {},
   "source": [
    "We have gotten our 28,28,1 matrix to proceed further"
   ]
  },
  {
   "cell_type": "code",
   "execution_count": 30,
   "metadata": {},
   "outputs": [],
   "source": [
    "# Model\n",
    "model = Sequential()\n",
    "# add convolution 2D\n",
    "model.add(Conv2D(32, kernel_size=(3, 3),\n",
    "                activation='relu',\n",
    "                kernel_initializer='he_normal',\n",
    "                input_shape=(img_rows, img_cols, 1)))\n",
    "model.add(MaxPooling2D((2,2)))\n",
    "model.add(Conv2D(64,\n",
    "                kernel_size=(3,3),\n",
    "                activation='relu'))\n",
    "model.add(MaxPooling2D(pool_size=(2,2)))\n",
    "model.add(Conv2D(128, (3, 3), activation='relu'))\n",
    "model.add(Flatten())\n",
    "model.add(Dense(128, activation='relu'))\n",
    "model.add(Dense(num_classes, activation='softmax'))\n",
    "\n",
    "model.compile(loss=keras.losses.categorical_crossentropy,\n",
    "             optimizer='adam',\n",
    "             metrics=['accuracy'])"
   ]
  },
  {
   "cell_type": "code",
   "execution_count": 26,
   "metadata": {},
   "outputs": [
    {
     "name": "stdout",
     "output_type": "stream",
     "text": [
      "Model: \"sequential\"\n",
      "_________________________________________________________________\n",
      "Layer (type)                 Output Shape              Param #   \n",
      "=================================================================\n",
      "conv2d (Conv2D)              (None, 26, 26, 32)        320       \n",
      "_________________________________________________________________\n",
      "max_pooling2d (MaxPooling2D) (None, 13, 13, 32)        0         \n",
      "_________________________________________________________________\n",
      "conv2d_1 (Conv2D)            (None, 11, 11, 64)        18496     \n",
      "_________________________________________________________________\n",
      "max_pooling2d_1 (MaxPooling2 (None, 5, 5, 64)          0         \n",
      "_________________________________________________________________\n",
      "conv2d_2 (Conv2D)            (None, 3, 3, 128)         73856     \n",
      "_________________________________________________________________\n",
      "flatten (Flatten)            (None, 1152)              0         \n",
      "_________________________________________________________________\n",
      "dense (Dense)                (None, 128)               147584    \n",
      "_________________________________________________________________\n",
      "dense_1 (Dense)              (None, 10)                1290      \n",
      "=================================================================\n",
      "Total params: 241,546\n",
      "Trainable params: 241,546\n",
      "Non-trainable params: 0\n",
      "_________________________________________________________________\n"
     ]
    }
   ],
   "source": [
    "model.summary()"
   ]
  },
  {
   "cell_type": "code",
   "execution_count": 32,
   "metadata": {},
   "outputs": [
    {
     "name": "stdout",
     "output_type": "stream",
     "text": [
      "Train on 48000 samples, validate on 12000 samples\n",
      "Epoch 1/50\n",
      "48000/48000 [==============================] - 36s 744us/sample - loss: 0.5514 - acc: 0.7986 - val_loss: 0.3760 - val_acc: 0.8637\n",
      "Epoch 2/50\n",
      "48000/48000 [==============================] - 46s 954us/sample - loss: 0.3464 - acc: 0.8752 - val_loss: 0.3340 - val_acc: 0.8791\n",
      "Epoch 3/50\n",
      "48000/48000 [==============================] - 40s 831us/sample - loss: 0.2957 - acc: 0.8914 - val_loss: 0.2908 - val_acc: 0.8980\n",
      "Epoch 4/50\n",
      "48000/48000 [==============================] - 41s 846us/sample - loss: 0.2595 - acc: 0.9056 - val_loss: 0.2728 - val_acc: 0.9012\n",
      "Epoch 5/50\n",
      "48000/48000 [==============================] - 30s 634us/sample - loss: 0.2339 - acc: 0.9145 - val_loss: 0.3077 - val_acc: 0.8923\n",
      "Epoch 6/50\n",
      "48000/48000 [==============================] - 27s 557us/sample - loss: 0.2119 - acc: 0.9215 - val_loss: 0.2656 - val_acc: 0.9039\n",
      "Epoch 7/50\n",
      "48000/48000 [==============================] - 31s 636us/sample - loss: 0.1908 - acc: 0.9300 - val_loss: 0.2570 - val_acc: 0.9112\n",
      "Epoch 8/50\n",
      "48000/48000 [==============================] - 31s 644us/sample - loss: 0.1767 - acc: 0.9350 - val_loss: 0.2555 - val_acc: 0.9088\n",
      "Epoch 9/50\n",
      "48000/48000 [==============================] - 37s 777us/sample - loss: 0.1572 - acc: 0.9414 - val_loss: 0.2613 - val_acc: 0.9133\n",
      "Epoch 10/50\n",
      "48000/48000 [==============================] - 39s 820us/sample - loss: 0.1392 - acc: 0.9481 - val_loss: 0.2909 - val_acc: 0.9034\n",
      "Epoch 11/50\n",
      "48000/48000 [==============================] - 34s 718us/sample - loss: 0.1277 - acc: 0.9522 - val_loss: 0.2847 - val_acc: 0.9072\n",
      "Epoch 12/50\n",
      "48000/48000 [==============================] - 27s 562us/sample - loss: 0.1151 - acc: 0.9567 - val_loss: 0.2641 - val_acc: 0.9175\n",
      "Epoch 13/50\n",
      "48000/48000 [==============================] - 28s 577us/sample - loss: 0.0983 - acc: 0.9627 - val_loss: 0.2883 - val_acc: 0.9135\n",
      "Epoch 14/50\n",
      "48000/48000 [==============================] - 45s 932us/sample - loss: 0.0889 - acc: 0.9669 - val_loss: 0.3027 - val_acc: 0.9056\n",
      "Epoch 15/50\n",
      "48000/48000 [==============================] - 42s 879us/sample - loss: 0.0819 - acc: 0.9697 - val_loss: 0.3265 - val_acc: 0.9137\n",
      "Epoch 16/50\n",
      "48000/48000 [==============================] - 39s 806us/sample - loss: 0.0707 - acc: 0.9743 - val_loss: 0.3362 - val_acc: 0.9143\n",
      "Epoch 17/50\n",
      "48000/48000 [==============================] - 37s 767us/sample - loss: 0.0637 - acc: 0.9762 - val_loss: 0.4008 - val_acc: 0.9055\n",
      "Epoch 18/50\n",
      "48000/48000 [==============================] - 37s 771us/sample - loss: 0.0577 - acc: 0.9784 - val_loss: 0.3469 - val_acc: 0.9158\n",
      "Epoch 19/50\n",
      "48000/48000 [==============================] - 35s 733us/sample - loss: 0.0521 - acc: 0.9816 - val_loss: 0.3795 - val_acc: 0.9100\n",
      "Epoch 20/50\n",
      "48000/48000 [==============================] - 39s 806us/sample - loss: 0.0452 - acc: 0.9829 - val_loss: 0.4184 - val_acc: 0.9118\n",
      "Epoch 21/50\n",
      "48000/48000 [==============================] - 33s 691us/sample - loss: 0.0455 - acc: 0.9837 - val_loss: 0.4194 - val_acc: 0.9112\n",
      "Epoch 22/50\n",
      "48000/48000 [==============================] - 35s 725us/sample - loss: 0.0402 - acc: 0.9853 - val_loss: 0.4563 - val_acc: 0.9078\n",
      "Epoch 23/50\n",
      "48000/48000 [==============================] - 41s 858us/sample - loss: 0.0378 - acc: 0.9862 - val_loss: 0.4147 - val_acc: 0.9097\n",
      "Epoch 24/50\n",
      "48000/48000 [==============================] - 38s 791us/sample - loss: 0.0343 - acc: 0.9885 - val_loss: 0.4724 - val_acc: 0.9070\n",
      "Epoch 25/50\n",
      "48000/48000 [==============================] - 38s 786us/sample - loss: 0.0294 - acc: 0.9895 - val_loss: 0.4900 - val_acc: 0.9118\n",
      "Epoch 26/50\n",
      "48000/48000 [==============================] - 38s 787us/sample - loss: 0.0259 - acc: 0.9909 - val_loss: 0.4919 - val_acc: 0.9078\n",
      "Epoch 27/50\n",
      "48000/48000 [==============================] - 32s 677us/sample - loss: 0.0274 - acc: 0.9905 - val_loss: 0.5620 - val_acc: 0.9064\n",
      "Epoch 28/50\n",
      "48000/48000 [==============================] - 34s 712us/sample - loss: 0.0272 - acc: 0.9902 - val_loss: 0.5576 - val_acc: 0.9081\n",
      "Epoch 29/50\n",
      "48000/48000 [==============================] - 34s 718us/sample - loss: 0.0254 - acc: 0.9904 - val_loss: 0.5627 - val_acc: 0.9090\n",
      "Epoch 30/50\n",
      "48000/48000 [==============================] - 32s 657us/sample - loss: 0.0223 - acc: 0.9921 - val_loss: 0.5700 - val_acc: 0.9100\n",
      "Epoch 31/50\n",
      "48000/48000 [==============================] - 34s 711us/sample - loss: 0.0322 - acc: 0.9891 - val_loss: 0.5700 - val_acc: 0.9054\n",
      "Epoch 32/50\n",
      "48000/48000 [==============================] - 32s 671us/sample - loss: 0.0188 - acc: 0.9938 - val_loss: 0.5809 - val_acc: 0.9085\n",
      "Epoch 33/50\n",
      "48000/48000 [==============================] - 36s 741us/sample - loss: 0.0216 - acc: 0.9925 - val_loss: 0.5642 - val_acc: 0.9114\n",
      "Epoch 34/50\n",
      "48000/48000 [==============================] - 34s 703us/sample - loss: 0.0188 - acc: 0.9931 - val_loss: 0.6300 - val_acc: 0.9113\n",
      "Epoch 35/50\n",
      "48000/48000 [==============================] - 39s 803us/sample - loss: 0.0178 - acc: 0.9938 - val_loss: 0.5999 - val_acc: 0.9084\n",
      "Epoch 36/50\n",
      "48000/48000 [==============================] - 31s 643us/sample - loss: 0.0221 - acc: 0.9922 - val_loss: 0.6185 - val_acc: 0.9060\n",
      "Epoch 37/50\n",
      "48000/48000 [==============================] - 35s 729us/sample - loss: 0.0199 - acc: 0.9926 - val_loss: 0.6099 - val_acc: 0.9087\n",
      "Epoch 38/50\n",
      "48000/48000 [==============================] - 34s 718us/sample - loss: 0.0191 - acc: 0.9935 - val_loss: 0.5875 - val_acc: 0.9093\n",
      "Epoch 39/50\n",
      "48000/48000 [==============================] - 36s 741us/sample - loss: 0.0148 - acc: 0.9951 - val_loss: 0.6583 - val_acc: 0.9053\n",
      "Epoch 40/50\n",
      "48000/48000 [==============================] - 34s 706us/sample - loss: 0.0203 - acc: 0.9932 - val_loss: 0.6241 - val_acc: 0.9120\n",
      "Epoch 41/50\n",
      "48000/48000 [==============================] - 34s 705us/sample - loss: 0.0188 - acc: 0.9936 - val_loss: 0.7037 - val_acc: 0.9078\n",
      "Epoch 42/50\n",
      "48000/48000 [==============================] - 36s 746us/sample - loss: 0.0186 - acc: 0.9936 - val_loss: 0.6847 - val_acc: 0.9066\n",
      "Epoch 43/50\n",
      "48000/48000 [==============================] - 33s 686us/sample - loss: 0.0197 - acc: 0.9931 - val_loss: 0.6465 - val_acc: 0.9116\n",
      "Epoch 44/50\n",
      "48000/48000 [==============================] - 37s 768us/sample - loss: 0.0231 - acc: 0.9921 - val_loss: 0.6588 - val_acc: 0.9083\n",
      "Epoch 45/50\n",
      "48000/48000 [==============================] - 35s 733us/sample - loss: 0.0123 - acc: 0.9956 - val_loss: 0.6565 - val_acc: 0.9108\n",
      "Epoch 46/50\n",
      "48000/48000 [==============================] - 45s 936us/sample - loss: 0.0065 - acc: 0.9978 - val_loss: 0.6952 - val_acc: 0.9099\n",
      "Epoch 47/50\n",
      "48000/48000 [==============================] - 41s 856us/sample - loss: 0.0180 - acc: 0.9939 - val_loss: 0.7235 - val_acc: 0.9072\n",
      "Epoch 48/50\n",
      "48000/48000 [==============================] - 44s 909us/sample - loss: 0.0170 - acc: 0.9941 - val_loss: 0.6950 - val_acc: 0.9133\n",
      "Epoch 49/50\n",
      "48000/48000 [==============================] - 39s 811us/sample - loss: 0.0105 - acc: 0.9963 - val_loss: 0.7025 - val_acc: 0.9074\n",
      "Epoch 50/50\n",
      "48000/48000 [==============================] - 40s 830us/sample - loss: 0.0219 - acc: 0.9926 - val_loss: 0.7208 - val_acc: 0.9074\n"
     ]
    }
   ],
   "source": [
    "train_model = model.fit(X_train, y_train,\n",
    "                  batch_size=128,\n",
    "                  epochs=50,\n",
    "                  verbose=1,\n",
    "                  validation_data=(X_val, y_val))"
   ]
  },
  {
   "cell_type": "code",
   "execution_count": 33,
   "metadata": {},
   "outputs": [
    {
     "name": "stdout",
     "output_type": "stream",
     "text": [
      "Test loss: 0.6262801875371486\n",
      "Test accuracy: 0.9142\n"
     ]
    }
   ],
   "source": [
    "score = model.evaluate(X_test, y_test, verbose=0)\n",
    "print('Test loss:', score[0])\n",
    "print('Test accuracy:', score[1])"
   ]
  },
  {
   "cell_type": "code",
   "execution_count": 34,
   "metadata": {},
   "outputs": [
    {
     "name": "stdout",
     "output_type": "stream",
     "text": [
      "This is the format of your plot grid:\n",
      "[ (1,1) x1,y1 ]  [ (1,2) x2,y2 ]\n",
      "\n"
     ]
    },
    {
     "data": {
      "application/vnd.plotly.v1+json": {
       "data": [
        {
         "marker": {
          "color": "Green"
         },
         "mode": "markers+lines",
         "name": "Training accuracy",
         "text": [
          "1",
          "2",
          "3",
          "4",
          "5",
          "6",
          "7",
          "8",
          "9",
          "10",
          "11",
          "12",
          "13",
          "14",
          "15",
          "16",
          "17",
          "18",
          "19",
          "20",
          "21",
          "22",
          "23",
          "24",
          "25",
          "26",
          "27",
          "28",
          "29",
          "30",
          "31",
          "32",
          "33",
          "34",
          "35",
          "36",
          "37",
          "38",
          "39",
          "40",
          "41",
          "42",
          "43",
          "44",
          "45",
          "46",
          "47",
          "48",
          "49",
          "50"
         ],
         "type": "scatter",
         "uid": "920ab264-da1d-4508-ad41-c037f9bd719e",
         "x": [
          1,
          2,
          3,
          4,
          5,
          6,
          7,
          8,
          9,
          10,
          11,
          12,
          13,
          14,
          15,
          16,
          17,
          18,
          19,
          20,
          21,
          22,
          23,
          24,
          25,
          26,
          27,
          28,
          29,
          30,
          31,
          32,
          33,
          34,
          35,
          36,
          37,
          38,
          39,
          40,
          41,
          42,
          43,
          44,
          45,
          46,
          47,
          48,
          49,
          50
         ],
         "xaxis": "x",
         "y": [
          0.7986249923706055,
          0.8751875162124634,
          0.8913541436195374,
          0.9056249856948853,
          0.9144583344459534,
          0.9214791655540466,
          0.9300416707992554,
          0.9350000023841858,
          0.9414374828338623,
          0.9480624794960022,
          0.9521874785423279,
          0.9566666483879089,
          0.9627083539962769,
          0.9669374823570251,
          0.9697291851043701,
          0.9743124842643738,
          0.976187527179718,
          0.9783750176429749,
          0.9816041588783264,
          0.9829166531562805,
          0.9836666584014893,
          0.9853125214576721,
          0.9861666560173035,
          0.9885208606719971,
          0.9895208477973938,
          0.9908750057220459,
          0.9905208349227905,
          0.9902083277702332,
          0.9904375076293945,
          0.992104172706604,
          0.9891250133514404,
          0.9938333630561829,
          0.992479145526886,
          0.9931041598320007,
          0.9938125014305115,
          0.9921666383743286,
          0.9926249980926514,
          0.9934583306312561,
          0.995104193687439,
          0.9932291507720947,
          0.9935625195503235,
          0.9936249852180481,
          0.9931041598320007,
          0.992062509059906,
          0.9956250190734863,
          0.9977916479110718,
          0.9938958287239075,
          0.9941458106040955,
          0.9963333606719971,
          0.9926041960716248
         ],
         "yaxis": "y"
        },
        {
         "marker": {
          "color": "Red"
         },
         "mode": "markers+lines",
         "name": "Validation accuracy",
         "text": [
          "1",
          "2",
          "3",
          "4",
          "5",
          "6",
          "7",
          "8",
          "9",
          "10",
          "11",
          "12",
          "13",
          "14",
          "15",
          "16",
          "17",
          "18",
          "19",
          "20",
          "21",
          "22",
          "23",
          "24",
          "25",
          "26",
          "27",
          "28",
          "29",
          "30",
          "31",
          "32",
          "33",
          "34",
          "35",
          "36",
          "37",
          "38",
          "39",
          "40",
          "41",
          "42",
          "43",
          "44",
          "45",
          "46",
          "47",
          "48",
          "49",
          "50"
         ],
         "type": "scatter",
         "uid": "a724eb48-3738-4360-88c0-c4d6bc709f97",
         "x": [
          1,
          2,
          3,
          4,
          5,
          6,
          7,
          8,
          9,
          10,
          11,
          12,
          13,
          14,
          15,
          16,
          17,
          18,
          19,
          20,
          21,
          22,
          23,
          24,
          25,
          26,
          27,
          28,
          29,
          30,
          31,
          32,
          33,
          34,
          35,
          36,
          37,
          38,
          39,
          40,
          41,
          42,
          43,
          44,
          45,
          46,
          47,
          48,
          49,
          50
         ],
         "xaxis": "x",
         "y": [
          0.8637499809265137,
          0.8790833353996277,
          0.8980000019073486,
          0.9011666774749756,
          0.8923333287239075,
          0.9039166569709778,
          0.9111666679382324,
          0.9088333249092102,
          0.9132500290870667,
          0.9034166932106018,
          0.9072499871253967,
          0.9175000190734863,
          0.9135000109672546,
          0.9055833220481873,
          0.9136666655540466,
          0.9142500162124634,
          0.9054999947547913,
          0.9157500267028809,
          0.9100000262260437,
          0.9118333458900452,
          0.9111666679382324,
          0.9078333377838135,
          0.9097499847412109,
          0.9070000052452087,
          0.9117500185966492,
          0.9077500104904175,
          0.906416654586792,
          0.9080833196640015,
          0.9089999794960022,
          0.9100000262260437,
          0.9054166674613953,
          0.9085000157356262,
          0.9114166498184204,
          0.9113333225250244,
          0.9084166884422302,
          0.906000018119812,
          0.9086666703224182,
          0.909333348274231,
          0.9052500128746033,
          0.9120000004768372,
          0.9077500104904175,
          0.906583309173584,
          0.9115833044052124,
          0.9083333611488342,
          0.9108333587646484,
          0.9099166393280029,
          0.9071666598320007,
          0.9132500290870667,
          0.9074166417121887,
          0.9074166417121887
         ],
         "yaxis": "y"
        },
        {
         "marker": {
          "color": "Blue"
         },
         "mode": "markers+lines",
         "name": "Training loss",
         "text": [
          "1",
          "2",
          "3",
          "4",
          "5",
          "6",
          "7",
          "8",
          "9",
          "10",
          "11",
          "12",
          "13",
          "14",
          "15",
          "16",
          "17",
          "18",
          "19",
          "20",
          "21",
          "22",
          "23",
          "24",
          "25",
          "26",
          "27",
          "28",
          "29",
          "30",
          "31",
          "32",
          "33",
          "34",
          "35",
          "36",
          "37",
          "38",
          "39",
          "40",
          "41",
          "42",
          "43",
          "44",
          "45",
          "46",
          "47",
          "48",
          "49",
          "50"
         ],
         "type": "scatter",
         "uid": "290273c4-bf5b-4965-a74d-63c529c81c65",
         "x": [
          1,
          2,
          3,
          4,
          5,
          6,
          7,
          8,
          9,
          10,
          11,
          12,
          13,
          14,
          15,
          16,
          17,
          18,
          19,
          20,
          21,
          22,
          23,
          24,
          25,
          26,
          27,
          28,
          29,
          30,
          31,
          32,
          33,
          34,
          35,
          36,
          37,
          38,
          39,
          40,
          41,
          42,
          43,
          44,
          45,
          46,
          47,
          48,
          49,
          50
         ],
         "xaxis": "x2",
         "y": [
          0.5513884291648865,
          0.3463518906831741,
          0.2956752135356267,
          0.25949419633547466,
          0.23390113470951715,
          0.21194712873299917,
          0.19076070535182954,
          0.17673662225405376,
          0.15718257999420165,
          0.13919872678319614,
          0.12767056470115978,
          0.11513636876145998,
          0.09825230956574281,
          0.08886983929077784,
          0.08189585299789906,
          0.07074395706007879,
          0.06371086151897908,
          0.05772216287006934,
          0.05207732265815139,
          0.04518682888026039,
          0.04548668565104405,
          0.040222201832880576,
          0.03783570185552041,
          0.03425985658789674,
          0.029381384088347357,
          0.025947031611576677,
          0.027446018646781645,
          0.027206048554740847,
          0.025434569015478095,
          0.022316776112653314,
          0.03222351465839893,
          0.018750845458203307,
          0.021559586744445067,
          0.018800356213934718,
          0.017788737844831,
          0.02206475000921637,
          0.019941206007730215,
          0.019087221689677487,
          0.014752836986095644,
          0.020268253922462464,
          0.01875707962177694,
          0.018592627764873516,
          0.01966268556844443,
          0.023148107137181795,
          0.012340570182694743,
          0.0065481562787414686,
          0.018009115297347306,
          0.017019410689050954,
          0.010516963569699632,
          0.021857259459366712
         ],
         "yaxis": "y2"
        },
        {
         "marker": {
          "color": "Magenta"
         },
         "mode": "markers+lines",
         "name": "Validation loss",
         "text": [
          "1",
          "2",
          "3",
          "4",
          "5",
          "6",
          "7",
          "8",
          "9",
          "10",
          "11",
          "12",
          "13",
          "14",
          "15",
          "16",
          "17",
          "18",
          "19",
          "20",
          "21",
          "22",
          "23",
          "24",
          "25",
          "26",
          "27",
          "28",
          "29",
          "30",
          "31",
          "32",
          "33",
          "34",
          "35",
          "36",
          "37",
          "38",
          "39",
          "40",
          "41",
          "42",
          "43",
          "44",
          "45",
          "46",
          "47",
          "48",
          "49",
          "50"
         ],
         "type": "scatter",
         "uid": "766e7b74-001c-4074-88e5-be81393c351a",
         "x": [
          1,
          2,
          3,
          4,
          5,
          6,
          7,
          8,
          9,
          10,
          11,
          12,
          13,
          14,
          15,
          16,
          17,
          18,
          19,
          20,
          21,
          22,
          23,
          24,
          25,
          26,
          27,
          28,
          29,
          30,
          31,
          32,
          33,
          34,
          35,
          36,
          37,
          38,
          39,
          40,
          41,
          42,
          43,
          44,
          45,
          46,
          47,
          48,
          49,
          50
         ],
         "xaxis": "x2",
         "y": [
          0.37604872727394106,
          0.3339624048868815,
          0.2907675931851069,
          0.27275676202774046,
          0.30772853310902915,
          0.2656108402411143,
          0.2569765178759893,
          0.255511492451032,
          0.2612853824297587,
          0.29088794855276745,
          0.28469912985960644,
          0.2640744353135427,
          0.2882762113412221,
          0.30265664180119833,
          0.3265225330193838,
          0.33617318399747215,
          0.4007607745329539,
          0.3469483045339584,
          0.379530100385348,
          0.4183643581867218,
          0.41944334836800895,
          0.45628505071004233,
          0.4146524816354116,
          0.47239028437932334,
          0.4899557215372721,
          0.4918698882261912,
          0.5619967031478882,
          0.5576167448361715,
          0.5627139110565186,
          0.5699948765436809,
          0.5700227657159169,
          0.5808615575234095,
          0.564241720199585,
          0.6299567728837331,
          0.5999384166399638,
          0.6184872026443482,
          0.609939387400945,
          0.5875152396361033,
          0.658345088005066,
          0.624112589041392,
          0.7037129445075989,
          0.684651891708374,
          0.6465270250638326,
          0.6587609669367472,
          0.6565475598971049,
          0.6952251728375752,
          0.723497277657191,
          0.695035741964976,
          0.7025061280727386,
          0.7207983751296997
         ],
         "yaxis": "y2"
        }
       ],
       "layout": {
        "annotations": [
         {
          "font": {
           "size": 16
          },
          "showarrow": false,
          "text": "Training and validation accuracy",
          "x": 0.225,
          "xanchor": "center",
          "xref": "paper",
          "y": 1,
          "yanchor": "bottom",
          "yref": "paper"
         },
         {
          "font": {
           "size": 16
          },
          "showarrow": false,
          "text": "Training and validation loss",
          "x": 0.775,
          "xanchor": "center",
          "xref": "paper",
          "y": 1,
          "yanchor": "bottom",
          "yref": "paper"
         }
        ],
        "xaxis": {
         "anchor": "y",
         "domain": [
          0,
          0.45
         ],
         "title": "Epoch"
        },
        "xaxis2": {
         "anchor": "y2",
         "domain": [
          0.55,
          1
         ],
         "title": "Epoch"
        },
        "yaxis": {
         "anchor": "x",
         "domain": [
          0,
          1
         ],
         "range": [
          0,
          1
         ],
         "title": "Accuracy"
        },
        "yaxis2": {
         "anchor": "x2",
         "domain": [
          0,
          1
         ],
         "range": [
          0,
          1
         ],
         "title": "Loss"
        }
       }
      },
      "text/html": [
       "<div id=\"f77db8d2-4383-4e37-8675-b1522fa38ab2\" style=\"height: 525px; width: 100%;\" class=\"plotly-graph-div\"></div><script type=\"text/javascript\">require([\"plotly\"], function(Plotly) { window.PLOTLYENV=window.PLOTLYENV || {};window.PLOTLYENV.BASE_URL=\"https://plot.ly\";Plotly.newPlot(\"f77db8d2-4383-4e37-8675-b1522fa38ab2\", [{\"marker\": {\"color\": \"Green\"}, \"mode\": \"markers+lines\", \"name\": \"Training accuracy\", \"text\": [\"1\", \"2\", \"3\", \"4\", \"5\", \"6\", \"7\", \"8\", \"9\", \"10\", \"11\", \"12\", \"13\", \"14\", \"15\", \"16\", \"17\", \"18\", \"19\", \"20\", \"21\", \"22\", \"23\", \"24\", \"25\", \"26\", \"27\", \"28\", \"29\", \"30\", \"31\", \"32\", \"33\", \"34\", \"35\", \"36\", \"37\", \"38\", \"39\", \"40\", \"41\", \"42\", \"43\", \"44\", \"45\", \"46\", \"47\", \"48\", \"49\", \"50\"], \"x\": [1, 2, 3, 4, 5, 6, 7, 8, 9, 10, 11, 12, 13, 14, 15, 16, 17, 18, 19, 20, 21, 22, 23, 24, 25, 26, 27, 28, 29, 30, 31, 32, 33, 34, 35, 36, 37, 38, 39, 40, 41, 42, 43, 44, 45, 46, 47, 48, 49, 50], \"y\": [0.7986249923706055, 0.8751875162124634, 0.8913541436195374, 0.9056249856948853, 0.9144583344459534, 0.9214791655540466, 0.9300416707992554, 0.9350000023841858, 0.9414374828338623, 0.9480624794960022, 0.9521874785423279, 0.9566666483879089, 0.9627083539962769, 0.9669374823570251, 0.9697291851043701, 0.9743124842643738, 0.976187527179718, 0.9783750176429749, 0.9816041588783264, 0.9829166531562805, 0.9836666584014893, 0.9853125214576721, 0.9861666560173035, 0.9885208606719971, 0.9895208477973938, 0.9908750057220459, 0.9905208349227905, 0.9902083277702332, 0.9904375076293945, 0.992104172706604, 0.9891250133514404, 0.9938333630561829, 0.992479145526886, 0.9931041598320007, 0.9938125014305115, 0.9921666383743286, 0.9926249980926514, 0.9934583306312561, 0.995104193687439, 0.9932291507720947, 0.9935625195503235, 0.9936249852180481, 0.9931041598320007, 0.992062509059906, 0.9956250190734863, 0.9977916479110718, 0.9938958287239075, 0.9941458106040955, 0.9963333606719971, 0.9926041960716248], \"type\": \"scatter\", \"uid\": \"920ab264-da1d-4508-ad41-c037f9bd719e\", \"xaxis\": \"x\", \"yaxis\": \"y\"}, {\"marker\": {\"color\": \"Red\"}, \"mode\": \"markers+lines\", \"name\": \"Validation accuracy\", \"text\": [\"1\", \"2\", \"3\", \"4\", \"5\", \"6\", \"7\", \"8\", \"9\", \"10\", \"11\", \"12\", \"13\", \"14\", \"15\", \"16\", \"17\", \"18\", \"19\", \"20\", \"21\", \"22\", \"23\", \"24\", \"25\", \"26\", \"27\", \"28\", \"29\", \"30\", \"31\", \"32\", \"33\", \"34\", \"35\", \"36\", \"37\", \"38\", \"39\", \"40\", \"41\", \"42\", \"43\", \"44\", \"45\", \"46\", \"47\", \"48\", \"49\", \"50\"], \"x\": [1, 2, 3, 4, 5, 6, 7, 8, 9, 10, 11, 12, 13, 14, 15, 16, 17, 18, 19, 20, 21, 22, 23, 24, 25, 26, 27, 28, 29, 30, 31, 32, 33, 34, 35, 36, 37, 38, 39, 40, 41, 42, 43, 44, 45, 46, 47, 48, 49, 50], \"y\": [0.8637499809265137, 0.8790833353996277, 0.8980000019073486, 0.9011666774749756, 0.8923333287239075, 0.9039166569709778, 0.9111666679382324, 0.9088333249092102, 0.9132500290870667, 0.9034166932106018, 0.9072499871253967, 0.9175000190734863, 0.9135000109672546, 0.9055833220481873, 0.9136666655540466, 0.9142500162124634, 0.9054999947547913, 0.9157500267028809, 0.9100000262260437, 0.9118333458900452, 0.9111666679382324, 0.9078333377838135, 0.9097499847412109, 0.9070000052452087, 0.9117500185966492, 0.9077500104904175, 0.906416654586792, 0.9080833196640015, 0.9089999794960022, 0.9100000262260437, 0.9054166674613953, 0.9085000157356262, 0.9114166498184204, 0.9113333225250244, 0.9084166884422302, 0.906000018119812, 0.9086666703224182, 0.909333348274231, 0.9052500128746033, 0.9120000004768372, 0.9077500104904175, 0.906583309173584, 0.9115833044052124, 0.9083333611488342, 0.9108333587646484, 0.9099166393280029, 0.9071666598320007, 0.9132500290870667, 0.9074166417121887, 0.9074166417121887], \"type\": \"scatter\", \"uid\": \"a724eb48-3738-4360-88c0-c4d6bc709f97\", \"xaxis\": \"x\", \"yaxis\": \"y\"}, {\"marker\": {\"color\": \"Blue\"}, \"mode\": \"markers+lines\", \"name\": \"Training loss\", \"text\": [\"1\", \"2\", \"3\", \"4\", \"5\", \"6\", \"7\", \"8\", \"9\", \"10\", \"11\", \"12\", \"13\", \"14\", \"15\", \"16\", \"17\", \"18\", \"19\", \"20\", \"21\", \"22\", \"23\", \"24\", \"25\", \"26\", \"27\", \"28\", \"29\", \"30\", \"31\", \"32\", \"33\", \"34\", \"35\", \"36\", \"37\", \"38\", \"39\", \"40\", \"41\", \"42\", \"43\", \"44\", \"45\", \"46\", \"47\", \"48\", \"49\", \"50\"], \"x\": [1, 2, 3, 4, 5, 6, 7, 8, 9, 10, 11, 12, 13, 14, 15, 16, 17, 18, 19, 20, 21, 22, 23, 24, 25, 26, 27, 28, 29, 30, 31, 32, 33, 34, 35, 36, 37, 38, 39, 40, 41, 42, 43, 44, 45, 46, 47, 48, 49, 50], \"y\": [0.5513884291648865, 0.3463518906831741, 0.2956752135356267, 0.25949419633547466, 0.23390113470951715, 0.21194712873299917, 0.19076070535182954, 0.17673662225405376, 0.15718257999420165, 0.13919872678319614, 0.12767056470115978, 0.11513636876145998, 0.09825230956574281, 0.08886983929077784, 0.08189585299789906, 0.07074395706007879, 0.06371086151897908, 0.05772216287006934, 0.05207732265815139, 0.04518682888026039, 0.04548668565104405, 0.040222201832880576, 0.03783570185552041, 0.03425985658789674, 0.029381384088347357, 0.025947031611576677, 0.027446018646781645, 0.027206048554740847, 0.025434569015478095, 0.022316776112653314, 0.03222351465839893, 0.018750845458203307, 0.021559586744445067, 0.018800356213934718, 0.017788737844831, 0.02206475000921637, 0.019941206007730215, 0.019087221689677487, 0.014752836986095644, 0.020268253922462464, 0.01875707962177694, 0.018592627764873516, 0.01966268556844443, 0.023148107137181795, 0.012340570182694743, 0.0065481562787414686, 0.018009115297347306, 0.017019410689050954, 0.010516963569699632, 0.021857259459366712], \"type\": \"scatter\", \"uid\": \"290273c4-bf5b-4965-a74d-63c529c81c65\", \"xaxis\": \"x2\", \"yaxis\": \"y2\"}, {\"marker\": {\"color\": \"Magenta\"}, \"mode\": \"markers+lines\", \"name\": \"Validation loss\", \"text\": [\"1\", \"2\", \"3\", \"4\", \"5\", \"6\", \"7\", \"8\", \"9\", \"10\", \"11\", \"12\", \"13\", \"14\", \"15\", \"16\", \"17\", \"18\", \"19\", \"20\", \"21\", \"22\", \"23\", \"24\", \"25\", \"26\", \"27\", \"28\", \"29\", \"30\", \"31\", \"32\", \"33\", \"34\", \"35\", \"36\", \"37\", \"38\", \"39\", \"40\", \"41\", \"42\", \"43\", \"44\", \"45\", \"46\", \"47\", \"48\", \"49\", \"50\"], \"x\": [1, 2, 3, 4, 5, 6, 7, 8, 9, 10, 11, 12, 13, 14, 15, 16, 17, 18, 19, 20, 21, 22, 23, 24, 25, 26, 27, 28, 29, 30, 31, 32, 33, 34, 35, 36, 37, 38, 39, 40, 41, 42, 43, 44, 45, 46, 47, 48, 49, 50], \"y\": [0.37604872727394106, 0.3339624048868815, 0.2907675931851069, 0.27275676202774046, 0.30772853310902915, 0.2656108402411143, 0.2569765178759893, 0.255511492451032, 0.2612853824297587, 0.29088794855276745, 0.28469912985960644, 0.2640744353135427, 0.2882762113412221, 0.30265664180119833, 0.3265225330193838, 0.33617318399747215, 0.4007607745329539, 0.3469483045339584, 0.379530100385348, 0.4183643581867218, 0.41944334836800895, 0.45628505071004233, 0.4146524816354116, 0.47239028437932334, 0.4899557215372721, 0.4918698882261912, 0.5619967031478882, 0.5576167448361715, 0.5627139110565186, 0.5699948765436809, 0.5700227657159169, 0.5808615575234095, 0.564241720199585, 0.6299567728837331, 0.5999384166399638, 0.6184872026443482, 0.609939387400945, 0.5875152396361033, 0.658345088005066, 0.624112589041392, 0.7037129445075989, 0.684651891708374, 0.6465270250638326, 0.6587609669367472, 0.6565475598971049, 0.6952251728375752, 0.723497277657191, 0.695035741964976, 0.7025061280727386, 0.7207983751296997], \"type\": \"scatter\", \"uid\": \"766e7b74-001c-4074-88e5-be81393c351a\", \"xaxis\": \"x2\", \"yaxis\": \"y2\"}], {\"annotations\": [{\"font\": {\"size\": 16}, \"showarrow\": false, \"text\": \"Training and validation accuracy\", \"x\": 0.225, \"xanchor\": \"center\", \"xref\": \"paper\", \"y\": 1.0, \"yanchor\": \"bottom\", \"yref\": \"paper\"}, {\"font\": {\"size\": 16}, \"showarrow\": false, \"text\": \"Training and validation loss\", \"x\": 0.775, \"xanchor\": \"center\", \"xref\": \"paper\", \"y\": 1.0, \"yanchor\": \"bottom\", \"yref\": \"paper\"}], \"xaxis\": {\"anchor\": \"y\", \"domain\": [0.0, 0.45], \"title\": \"Epoch\"}, \"yaxis\": {\"anchor\": \"x\", \"domain\": [0.0, 1.0], \"title\": \"Accuracy\", \"range\": [0, 1]}, \"xaxis2\": {\"anchor\": \"y2\", \"domain\": [0.55, 1.0], \"title\": \"Epoch\"}, \"yaxis2\": {\"anchor\": \"x2\", \"domain\": [0.0, 1.0], \"title\": \"Loss\", \"range\": [0, 1]}}, {\"showLink\": true, \"linkText\": \"Export to plot.ly\"})});</script><script type=\"text/javascript\">window.addEventListener(\"resize\", function(){window._Plotly.Plots.resize(document.getElementById(\"f77db8d2-4383-4e37-8675-b1522fa38ab2\"));});</script>"
      ],
      "text/vnd.plotly.v1+html": [
       "<div id=\"f77db8d2-4383-4e37-8675-b1522fa38ab2\" style=\"height: 525px; width: 100%;\" class=\"plotly-graph-div\"></div><script type=\"text/javascript\">require([\"plotly\"], function(Plotly) { window.PLOTLYENV=window.PLOTLYENV || {};window.PLOTLYENV.BASE_URL=\"https://plot.ly\";Plotly.newPlot(\"f77db8d2-4383-4e37-8675-b1522fa38ab2\", [{\"marker\": {\"color\": \"Green\"}, \"mode\": \"markers+lines\", \"name\": \"Training accuracy\", \"text\": [\"1\", \"2\", \"3\", \"4\", \"5\", \"6\", \"7\", \"8\", \"9\", \"10\", \"11\", \"12\", \"13\", \"14\", \"15\", \"16\", \"17\", \"18\", \"19\", \"20\", \"21\", \"22\", \"23\", \"24\", \"25\", \"26\", \"27\", \"28\", \"29\", \"30\", \"31\", \"32\", \"33\", \"34\", \"35\", \"36\", \"37\", \"38\", \"39\", \"40\", \"41\", \"42\", \"43\", \"44\", \"45\", \"46\", \"47\", \"48\", \"49\", \"50\"], \"x\": [1, 2, 3, 4, 5, 6, 7, 8, 9, 10, 11, 12, 13, 14, 15, 16, 17, 18, 19, 20, 21, 22, 23, 24, 25, 26, 27, 28, 29, 30, 31, 32, 33, 34, 35, 36, 37, 38, 39, 40, 41, 42, 43, 44, 45, 46, 47, 48, 49, 50], \"y\": [0.7986249923706055, 0.8751875162124634, 0.8913541436195374, 0.9056249856948853, 0.9144583344459534, 0.9214791655540466, 0.9300416707992554, 0.9350000023841858, 0.9414374828338623, 0.9480624794960022, 0.9521874785423279, 0.9566666483879089, 0.9627083539962769, 0.9669374823570251, 0.9697291851043701, 0.9743124842643738, 0.976187527179718, 0.9783750176429749, 0.9816041588783264, 0.9829166531562805, 0.9836666584014893, 0.9853125214576721, 0.9861666560173035, 0.9885208606719971, 0.9895208477973938, 0.9908750057220459, 0.9905208349227905, 0.9902083277702332, 0.9904375076293945, 0.992104172706604, 0.9891250133514404, 0.9938333630561829, 0.992479145526886, 0.9931041598320007, 0.9938125014305115, 0.9921666383743286, 0.9926249980926514, 0.9934583306312561, 0.995104193687439, 0.9932291507720947, 0.9935625195503235, 0.9936249852180481, 0.9931041598320007, 0.992062509059906, 0.9956250190734863, 0.9977916479110718, 0.9938958287239075, 0.9941458106040955, 0.9963333606719971, 0.9926041960716248], \"type\": \"scatter\", \"uid\": \"920ab264-da1d-4508-ad41-c037f9bd719e\", \"xaxis\": \"x\", \"yaxis\": \"y\"}, {\"marker\": {\"color\": \"Red\"}, \"mode\": \"markers+lines\", \"name\": \"Validation accuracy\", \"text\": [\"1\", \"2\", \"3\", \"4\", \"5\", \"6\", \"7\", \"8\", \"9\", \"10\", \"11\", \"12\", \"13\", \"14\", \"15\", \"16\", \"17\", \"18\", \"19\", \"20\", \"21\", \"22\", \"23\", \"24\", \"25\", \"26\", \"27\", \"28\", \"29\", \"30\", \"31\", \"32\", \"33\", \"34\", \"35\", \"36\", \"37\", \"38\", \"39\", \"40\", \"41\", \"42\", \"43\", \"44\", \"45\", \"46\", \"47\", \"48\", \"49\", \"50\"], \"x\": [1, 2, 3, 4, 5, 6, 7, 8, 9, 10, 11, 12, 13, 14, 15, 16, 17, 18, 19, 20, 21, 22, 23, 24, 25, 26, 27, 28, 29, 30, 31, 32, 33, 34, 35, 36, 37, 38, 39, 40, 41, 42, 43, 44, 45, 46, 47, 48, 49, 50], \"y\": [0.8637499809265137, 0.8790833353996277, 0.8980000019073486, 0.9011666774749756, 0.8923333287239075, 0.9039166569709778, 0.9111666679382324, 0.9088333249092102, 0.9132500290870667, 0.9034166932106018, 0.9072499871253967, 0.9175000190734863, 0.9135000109672546, 0.9055833220481873, 0.9136666655540466, 0.9142500162124634, 0.9054999947547913, 0.9157500267028809, 0.9100000262260437, 0.9118333458900452, 0.9111666679382324, 0.9078333377838135, 0.9097499847412109, 0.9070000052452087, 0.9117500185966492, 0.9077500104904175, 0.906416654586792, 0.9080833196640015, 0.9089999794960022, 0.9100000262260437, 0.9054166674613953, 0.9085000157356262, 0.9114166498184204, 0.9113333225250244, 0.9084166884422302, 0.906000018119812, 0.9086666703224182, 0.909333348274231, 0.9052500128746033, 0.9120000004768372, 0.9077500104904175, 0.906583309173584, 0.9115833044052124, 0.9083333611488342, 0.9108333587646484, 0.9099166393280029, 0.9071666598320007, 0.9132500290870667, 0.9074166417121887, 0.9074166417121887], \"type\": \"scatter\", \"uid\": \"a724eb48-3738-4360-88c0-c4d6bc709f97\", \"xaxis\": \"x\", \"yaxis\": \"y\"}, {\"marker\": {\"color\": \"Blue\"}, \"mode\": \"markers+lines\", \"name\": \"Training loss\", \"text\": [\"1\", \"2\", \"3\", \"4\", \"5\", \"6\", \"7\", \"8\", \"9\", \"10\", \"11\", \"12\", \"13\", \"14\", \"15\", \"16\", \"17\", \"18\", \"19\", \"20\", \"21\", \"22\", \"23\", \"24\", \"25\", \"26\", \"27\", \"28\", \"29\", \"30\", \"31\", \"32\", \"33\", \"34\", \"35\", \"36\", \"37\", \"38\", \"39\", \"40\", \"41\", \"42\", \"43\", \"44\", \"45\", \"46\", \"47\", \"48\", \"49\", \"50\"], \"x\": [1, 2, 3, 4, 5, 6, 7, 8, 9, 10, 11, 12, 13, 14, 15, 16, 17, 18, 19, 20, 21, 22, 23, 24, 25, 26, 27, 28, 29, 30, 31, 32, 33, 34, 35, 36, 37, 38, 39, 40, 41, 42, 43, 44, 45, 46, 47, 48, 49, 50], \"y\": [0.5513884291648865, 0.3463518906831741, 0.2956752135356267, 0.25949419633547466, 0.23390113470951715, 0.21194712873299917, 0.19076070535182954, 0.17673662225405376, 0.15718257999420165, 0.13919872678319614, 0.12767056470115978, 0.11513636876145998, 0.09825230956574281, 0.08886983929077784, 0.08189585299789906, 0.07074395706007879, 0.06371086151897908, 0.05772216287006934, 0.05207732265815139, 0.04518682888026039, 0.04548668565104405, 0.040222201832880576, 0.03783570185552041, 0.03425985658789674, 0.029381384088347357, 0.025947031611576677, 0.027446018646781645, 0.027206048554740847, 0.025434569015478095, 0.022316776112653314, 0.03222351465839893, 0.018750845458203307, 0.021559586744445067, 0.018800356213934718, 0.017788737844831, 0.02206475000921637, 0.019941206007730215, 0.019087221689677487, 0.014752836986095644, 0.020268253922462464, 0.01875707962177694, 0.018592627764873516, 0.01966268556844443, 0.023148107137181795, 0.012340570182694743, 0.0065481562787414686, 0.018009115297347306, 0.017019410689050954, 0.010516963569699632, 0.021857259459366712], \"type\": \"scatter\", \"uid\": \"290273c4-bf5b-4965-a74d-63c529c81c65\", \"xaxis\": \"x2\", \"yaxis\": \"y2\"}, {\"marker\": {\"color\": \"Magenta\"}, \"mode\": \"markers+lines\", \"name\": \"Validation loss\", \"text\": [\"1\", \"2\", \"3\", \"4\", \"5\", \"6\", \"7\", \"8\", \"9\", \"10\", \"11\", \"12\", \"13\", \"14\", \"15\", \"16\", \"17\", \"18\", \"19\", \"20\", \"21\", \"22\", \"23\", \"24\", \"25\", \"26\", \"27\", \"28\", \"29\", \"30\", \"31\", \"32\", \"33\", \"34\", \"35\", \"36\", \"37\", \"38\", \"39\", \"40\", \"41\", \"42\", \"43\", \"44\", \"45\", \"46\", \"47\", \"48\", \"49\", \"50\"], \"x\": [1, 2, 3, 4, 5, 6, 7, 8, 9, 10, 11, 12, 13, 14, 15, 16, 17, 18, 19, 20, 21, 22, 23, 24, 25, 26, 27, 28, 29, 30, 31, 32, 33, 34, 35, 36, 37, 38, 39, 40, 41, 42, 43, 44, 45, 46, 47, 48, 49, 50], \"y\": [0.37604872727394106, 0.3339624048868815, 0.2907675931851069, 0.27275676202774046, 0.30772853310902915, 0.2656108402411143, 0.2569765178759893, 0.255511492451032, 0.2612853824297587, 0.29088794855276745, 0.28469912985960644, 0.2640744353135427, 0.2882762113412221, 0.30265664180119833, 0.3265225330193838, 0.33617318399747215, 0.4007607745329539, 0.3469483045339584, 0.379530100385348, 0.4183643581867218, 0.41944334836800895, 0.45628505071004233, 0.4146524816354116, 0.47239028437932334, 0.4899557215372721, 0.4918698882261912, 0.5619967031478882, 0.5576167448361715, 0.5627139110565186, 0.5699948765436809, 0.5700227657159169, 0.5808615575234095, 0.564241720199585, 0.6299567728837331, 0.5999384166399638, 0.6184872026443482, 0.609939387400945, 0.5875152396361033, 0.658345088005066, 0.624112589041392, 0.7037129445075989, 0.684651891708374, 0.6465270250638326, 0.6587609669367472, 0.6565475598971049, 0.6952251728375752, 0.723497277657191, 0.695035741964976, 0.7025061280727386, 0.7207983751296997], \"type\": \"scatter\", \"uid\": \"766e7b74-001c-4074-88e5-be81393c351a\", \"xaxis\": \"x2\", \"yaxis\": \"y2\"}], {\"annotations\": [{\"font\": {\"size\": 16}, \"showarrow\": false, \"text\": \"Training and validation accuracy\", \"x\": 0.225, \"xanchor\": \"center\", \"xref\": \"paper\", \"y\": 1.0, \"yanchor\": \"bottom\", \"yref\": \"paper\"}, {\"font\": {\"size\": 16}, \"showarrow\": false, \"text\": \"Training and validation loss\", \"x\": 0.775, \"xanchor\": \"center\", \"xref\": \"paper\", \"y\": 1.0, \"yanchor\": \"bottom\", \"yref\": \"paper\"}], \"xaxis\": {\"anchor\": \"y\", \"domain\": [0.0, 0.45], \"title\": \"Epoch\"}, \"yaxis\": {\"anchor\": \"x\", \"domain\": [0.0, 1.0], \"title\": \"Accuracy\", \"range\": [0, 1]}, \"xaxis2\": {\"anchor\": \"y2\", \"domain\": [0.55, 1.0], \"title\": \"Epoch\"}, \"yaxis2\": {\"anchor\": \"x2\", \"domain\": [0.0, 1.0], \"title\": \"Loss\", \"range\": [0, 1]}}, {\"showLink\": true, \"linkText\": \"Export to plot.ly\"})});</script><script type=\"text/javascript\">window.addEventListener(\"resize\", function(){window._Plotly.Plots.resize(document.getElementById(\"f77db8d2-4383-4e37-8675-b1522fa38ab2\"));});</script>"
      ]
     },
     "metadata": {},
     "output_type": "display_data"
    }
   ],
   "source": [
    "def create_trace(x,y,ylabel,color):\n",
    "        trace = go.Scatter(\n",
    "            x = x,y = y,\n",
    "            name=ylabel,\n",
    "            marker=dict(color=color),\n",
    "            mode = \"markers+lines\",\n",
    "            text=x\n",
    "        )\n",
    "        return trace\n",
    "    \n",
    "def plot_accuracy_and_loss(train_model):\n",
    "    hist = train_model.history\n",
    "    acc = hist['acc']\n",
    "    val_acc = hist['val_acc']\n",
    "    loss = hist['loss']\n",
    "    val_loss = hist['val_loss']\n",
    "    epochs = list(range(1,len(acc)+1))\n",
    "    \n",
    "    trace_ta = create_trace(epochs,acc,\"Training accuracy\", \"Green\")\n",
    "    trace_va = create_trace(epochs,val_acc,\"Validation accuracy\", \"Red\")\n",
    "    trace_tl = create_trace(epochs,loss,\"Training loss\", \"Blue\")\n",
    "    trace_vl = create_trace(epochs,val_loss,\"Validation loss\", \"Magenta\")\n",
    "   \n",
    "    fig = tools.make_subplots(rows=1,cols=2, subplot_titles=('Training and validation accuracy',\n",
    "                                                             'Training and validation loss'))\n",
    "    fig.append_trace(trace_ta,1,1)\n",
    "    fig.append_trace(trace_va,1,1)\n",
    "    fig.append_trace(trace_tl,1,2)\n",
    "    fig.append_trace(trace_vl,1,2)\n",
    "    fig['layout']['xaxis'].update(title = 'Epoch')\n",
    "    fig['layout']['xaxis2'].update(title = 'Epoch')\n",
    "    fig['layout']['yaxis'].update(title = 'Accuracy', range=[0,1])\n",
    "    fig['layout']['yaxis2'].update(title = 'Loss', range=[0,1])\n",
    "\n",
    "    \n",
    "    iplot(fig, filename='accuracy-loss')\n",
    "\n",
    "plot_accuracy_and_loss(train_model)"
   ]
  },
  {
   "cell_type": "markdown",
   "metadata": {},
   "source": [
    "The validation accuracy starts to decrease quite early in the epoch cycle and hence shows that there is overfitting in our model. We can improve this model by adding a few dropout layers which helps prevent overfitting."
   ]
  },
  {
   "cell_type": "code",
   "execution_count": 37,
   "metadata": {},
   "outputs": [],
   "source": [
    "# Model\n",
    "model = Sequential()\n",
    "# Add convolution 2D\n",
    "model.add(Conv2D(32, kernel_size=(3, 3),\n",
    "                 activation='relu',\n",
    "                 kernel_initializer='he_normal',\n",
    "                 input_shape=(img_rows, img_cols, 1)))\n",
    "model.add(MaxPooling2D((2, 2)))\n",
    "# Add dropouts to the model\n",
    "model.add(Dropout(0.25))\n",
    "model.add(Conv2D(64, \n",
    "                 kernel_size=(3, 3), \n",
    "                 activation='relu'))\n",
    "model.add(MaxPooling2D(pool_size=(2, 2)))\n",
    "# Add dropouts to the model\n",
    "model.add(Dropout(0.25))\n",
    "model.add(Conv2D(128, (3, 3), activation='relu'))\n",
    "# Add dropouts to the model\n",
    "model.add(Dropout(0.4))\n",
    "model.add(Flatten())\n",
    "model.add(Dense(128, activation='relu'))\n",
    "# Add dropouts to the model\n",
    "model.add(Dropout(0.3))\n",
    "model.add(Dense(num_classes, activation='softmax'))\n",
    "\n",
    "\n",
    "model.compile(loss=keras.losses.categorical_crossentropy,\n",
    "              optimizer='adam',\n",
    "              metrics=['accuracy'])\n"
   ]
  },
  {
   "cell_type": "code",
   "execution_count": 38,
   "metadata": {},
   "outputs": [
    {
     "name": "stdout",
     "output_type": "stream",
     "text": [
      "Model: \"sequential_4\"\n",
      "_________________________________________________________________\n",
      "Layer (type)                 Output Shape              Param #   \n",
      "=================================================================\n",
      "conv2d_9 (Conv2D)            (None, 26, 26, 32)        320       \n",
      "_________________________________________________________________\n",
      "max_pooling2d_6 (MaxPooling2 (None, 13, 13, 32)        0         \n",
      "_________________________________________________________________\n",
      "dropout_4 (Dropout)          (None, 13, 13, 32)        0         \n",
      "_________________________________________________________________\n",
      "conv2d_10 (Conv2D)           (None, 11, 11, 64)        18496     \n",
      "_________________________________________________________________\n",
      "max_pooling2d_7 (MaxPooling2 (None, 5, 5, 64)          0         \n",
      "_________________________________________________________________\n",
      "dropout_5 (Dropout)          (None, 5, 5, 64)          0         \n",
      "_________________________________________________________________\n",
      "conv2d_11 (Conv2D)           (None, 3, 3, 128)         73856     \n",
      "_________________________________________________________________\n",
      "dropout_6 (Dropout)          (None, 3, 3, 128)         0         \n",
      "_________________________________________________________________\n",
      "flatten_3 (Flatten)          (None, 1152)              0         \n",
      "_________________________________________________________________\n",
      "dense_5 (Dense)              (None, 128)               147584    \n",
      "_________________________________________________________________\n",
      "dropout_7 (Dropout)          (None, 128)               0         \n",
      "_________________________________________________________________\n",
      "dense_6 (Dense)              (None, 10)                1290      \n",
      "=================================================================\n",
      "Total params: 241,546\n",
      "Trainable params: 241,546\n",
      "Non-trainable params: 0\n",
      "_________________________________________________________________\n"
     ]
    }
   ],
   "source": [
    "model.summary()"
   ]
  },
  {
   "cell_type": "code",
   "execution_count": 40,
   "metadata": {},
   "outputs": [
    {
     "name": "stdout",
     "output_type": "stream",
     "text": [
      "Train on 48000 samples, validate on 12000 samples\n",
      "Epoch 1/50\n",
      "48000/48000 [==============================] - 38s 795us/sample - loss: 0.7417 - acc: 0.7234 - val_loss: 0.4545 - val_acc: 0.8335\n",
      "Epoch 2/50\n",
      "48000/48000 [==============================] - 48s 1ms/sample - loss: 0.4748 - acc: 0.8260 - val_loss: 0.3747 - val_acc: 0.8658\n",
      "Epoch 3/50\n",
      "48000/48000 [==============================] - 33s 695us/sample - loss: 0.4057 - acc: 0.8518 - val_loss: 0.3279 - val_acc: 0.8808\n",
      "Epoch 4/50\n",
      "48000/48000 [==============================] - 32s 664us/sample - loss: 0.3701 - acc: 0.8652 - val_loss: 0.3070 - val_acc: 0.8895\n",
      "Epoch 5/50\n",
      "48000/48000 [==============================] - 31s 651us/sample - loss: 0.3449 - acc: 0.8742 - val_loss: 0.2951 - val_acc: 0.8920\n",
      "Epoch 6/50\n",
      "48000/48000 [==============================] - 41s 848us/sample - loss: 0.3273 - acc: 0.8806 - val_loss: 0.2808 - val_acc: 0.8975\n",
      "Epoch 7/50\n",
      "48000/48000 [==============================] - 34s 701us/sample - loss: 0.3124 - acc: 0.8850 - val_loss: 0.2755 - val_acc: 0.9003\n",
      "Epoch 8/50\n",
      "48000/48000 [==============================] - 31s 656us/sample - loss: 0.3005 - acc: 0.8879 - val_loss: 0.2606 - val_acc: 0.9056\n",
      "Epoch 9/50\n",
      "48000/48000 [==============================] - 32s 660us/sample - loss: 0.2879 - acc: 0.8953 - val_loss: 0.2680 - val_acc: 0.9030\n",
      "Epoch 10/50\n",
      "48000/48000 [==============================] - 35s 731us/sample - loss: 0.2843 - acc: 0.8951 - val_loss: 0.2570 - val_acc: 0.9066\n",
      "Epoch 11/50\n",
      "48000/48000 [==============================] - 39s 803us/sample - loss: 0.2729 - acc: 0.8981 - val_loss: 0.2509 - val_acc: 0.9100\n",
      "Epoch 12/50\n",
      "48000/48000 [==============================] - 38s 794us/sample - loss: 0.2698 - acc: 0.9000 - val_loss: 0.2457 - val_acc: 0.9121\n",
      "Epoch 13/50\n",
      "48000/48000 [==============================] - 58s 1ms/sample - loss: 0.2627 - acc: 0.9035 - val_loss: 0.2436 - val_acc: 0.9126\n",
      "Epoch 14/50\n",
      "48000/48000 [==============================] - 41s 857us/sample - loss: 0.2612 - acc: 0.9037 - val_loss: 0.2401 - val_acc: 0.9129\n",
      "Epoch 15/50\n",
      "48000/48000 [==============================] - 47s 982us/sample - loss: 0.2550 - acc: 0.9061 - val_loss: 0.2452 - val_acc: 0.9097\n",
      "Epoch 16/50\n",
      "48000/48000 [==============================] - 44s 910us/sample - loss: 0.2481 - acc: 0.9072 - val_loss: 0.2376 - val_acc: 0.9127\n",
      "Epoch 17/50\n",
      "48000/48000 [==============================] - 40s 840us/sample - loss: 0.2478 - acc: 0.9083 - val_loss: 0.2408 - val_acc: 0.9135\n",
      "Epoch 18/50\n",
      "48000/48000 [==============================] - 55s 1ms/sample - loss: 0.2410 - acc: 0.9107 - val_loss: 0.2316 - val_acc: 0.9160\n",
      "Epoch 19/50\n",
      "48000/48000 [==============================] - 43s 888us/sample - loss: 0.2369 - acc: 0.9114 - val_loss: 0.2368 - val_acc: 0.9143\n",
      "Epoch 20/50\n",
      "48000/48000 [==============================] - 50s 1ms/sample - loss: 0.2337 - acc: 0.9131 - val_loss: 0.2346 - val_acc: 0.9163\n",
      "Epoch 21/50\n",
      "48000/48000 [==============================] - 38s 792us/sample - loss: 0.2279 - acc: 0.9140 - val_loss: 0.2343 - val_acc: 0.9154\n",
      "Epoch 22/50\n",
      "48000/48000 [==============================] - 36s 743us/sample - loss: 0.2300 - acc: 0.9150 - val_loss: 0.2370 - val_acc: 0.9162\n",
      "Epoch 23/50\n",
      "48000/48000 [==============================] - 37s 770us/sample - loss: 0.2261 - acc: 0.9144 - val_loss: 0.2316 - val_acc: 0.9158\n",
      "Epoch 24/50\n",
      "48000/48000 [==============================] - 51s 1ms/sample - loss: 0.2248 - acc: 0.9158 - val_loss: 0.2336 - val_acc: 0.9150\n",
      "Epoch 25/50\n",
      "48000/48000 [==============================] - 40s 832us/sample - loss: 0.2204 - acc: 0.9177 - val_loss: 0.2279 - val_acc: 0.9193\n",
      "Epoch 26/50\n",
      "48000/48000 [==============================] - 41s 858us/sample - loss: 0.2230 - acc: 0.9156 - val_loss: 0.2334 - val_acc: 0.9139\n",
      "Epoch 27/50\n",
      "48000/48000 [==============================] - 55s 1ms/sample - loss: 0.2178 - acc: 0.9170 - val_loss: 0.2262 - val_acc: 0.9194\n",
      "Epoch 28/50\n",
      "48000/48000 [==============================] - 51s 1ms/sample - loss: 0.2122 - acc: 0.9200 - val_loss: 0.2270 - val_acc: 0.9211\n",
      "Epoch 29/50\n",
      "48000/48000 [==============================] - 40s 832us/sample - loss: 0.2129 - acc: 0.9199 - val_loss: 0.2247 - val_acc: 0.9194\n",
      "Epoch 30/50\n",
      "48000/48000 [==============================] - 39s 811us/sample - loss: 0.2083 - acc: 0.9204 - val_loss: 0.2239 - val_acc: 0.9205\n",
      "Epoch 31/50\n",
      "48000/48000 [==============================] - 39s 815us/sample - loss: 0.2112 - acc: 0.9201 - val_loss: 0.2255 - val_acc: 0.9195\n",
      "Epoch 32/50\n",
      "48000/48000 [==============================] - 39s 821us/sample - loss: 0.2062 - acc: 0.9224 - val_loss: 0.2237 - val_acc: 0.9193\n",
      "Epoch 33/50\n",
      "48000/48000 [==============================] - 46s 956us/sample - loss: 0.2047 - acc: 0.9236 - val_loss: 0.2219 - val_acc: 0.9199\n",
      "Epoch 34/50\n",
      "48000/48000 [==============================] - 41s 850us/sample - loss: 0.2034 - acc: 0.9235 - val_loss: 0.2239 - val_acc: 0.9211\n",
      "Epoch 35/50\n",
      "48000/48000 [==============================] - 38s 791us/sample - loss: 0.2061 - acc: 0.9225 - val_loss: 0.2265 - val_acc: 0.9203\n",
      "Epoch 36/50\n",
      "48000/48000 [==============================] - 39s 819us/sample - loss: 0.1999 - acc: 0.9243 - val_loss: 0.2266 - val_acc: 0.9208\n",
      "Epoch 37/50\n",
      "48000/48000 [==============================] - 44s 909us/sample - loss: 0.2009 - acc: 0.9239 - val_loss: 0.2225 - val_acc: 0.9212\n",
      "Epoch 38/50\n",
      "48000/48000 [==============================] - 51s 1ms/sample - loss: 0.1976 - acc: 0.9244 - val_loss: 0.2317 - val_acc: 0.9185\n",
      "Epoch 39/50\n",
      "48000/48000 [==============================] - 39s 811us/sample - loss: 0.1993 - acc: 0.9240 - val_loss: 0.2212 - val_acc: 0.9211\n",
      "Epoch 40/50\n",
      "48000/48000 [==============================] - 48s 999us/sample - loss: 0.1962 - acc: 0.9253 - val_loss: 0.2235 - val_acc: 0.9218\n",
      "Epoch 41/50\n",
      "48000/48000 [==============================] - 40s 834us/sample - loss: 0.1945 - acc: 0.9274 - val_loss: 0.2187 - val_acc: 0.9240\n",
      "Epoch 42/50\n",
      "48000/48000 [==============================] - 39s 806us/sample - loss: 0.1941 - acc: 0.9264 - val_loss: 0.2185 - val_acc: 0.9247\n",
      "Epoch 43/50\n",
      "48000/48000 [==============================] - 44s 916us/sample - loss: 0.1918 - acc: 0.9276 - val_loss: 0.2196 - val_acc: 0.9265\n",
      "Epoch 44/50\n",
      "48000/48000 [==============================] - 41s 854us/sample - loss: 0.1916 - acc: 0.9277 - val_loss: 0.2252 - val_acc: 0.9211\n",
      "Epoch 45/50\n",
      "48000/48000 [==============================] - 39s 822us/sample - loss: 0.1912 - acc: 0.9276 - val_loss: 0.2195 - val_acc: 0.9227\n",
      "Epoch 46/50\n",
      "48000/48000 [==============================] - 40s 833us/sample - loss: 0.1898 - acc: 0.9283 - val_loss: 0.2229 - val_acc: 0.9209\n",
      "Epoch 47/50\n",
      "48000/48000 [==============================] - 38s 795us/sample - loss: 0.1854 - acc: 0.9302 - val_loss: 0.2217 - val_acc: 0.9215\n",
      "Epoch 48/50\n",
      "48000/48000 [==============================] - 41s 858us/sample - loss: 0.1895 - acc: 0.9277 - val_loss: 0.2158 - val_acc: 0.9236\n",
      "Epoch 49/50\n",
      "48000/48000 [==============================] - 48s 1ms/sample - loss: 0.1901 - acc: 0.9282 - val_loss: 0.2166 - val_acc: 0.9218\n",
      "Epoch 50/50\n",
      "48000/48000 [==============================] - 42s 885us/sample - loss: 0.1863 - acc: 0.9292 - val_loss: 0.2192 - val_acc: 0.9232\n"
     ]
    }
   ],
   "source": [
    "train_model = model.fit(X_train, y_train,\n",
    "                  batch_size=128,\n",
    "                  epochs=50,\n",
    "                  verbose=1,\n",
    "                  validation_data=(X_val, y_val))"
   ]
  },
  {
   "cell_type": "code",
   "execution_count": 41,
   "metadata": {},
   "outputs": [
    {
     "name": "stdout",
     "output_type": "stream",
     "text": [
      "This is the format of your plot grid:\n",
      "[ (1,1) x1,y1 ]  [ (1,2) x2,y2 ]\n",
      "\n"
     ]
    },
    {
     "data": {
      "application/vnd.plotly.v1+json": {
       "data": [
        {
         "marker": {
          "color": "Green"
         },
         "mode": "markers+lines",
         "name": "Training accuracy",
         "text": [
          "1",
          "2",
          "3",
          "4",
          "5",
          "6",
          "7",
          "8",
          "9",
          "10",
          "11",
          "12",
          "13",
          "14",
          "15",
          "16",
          "17",
          "18",
          "19",
          "20",
          "21",
          "22",
          "23",
          "24",
          "25",
          "26",
          "27",
          "28",
          "29",
          "30",
          "31",
          "32",
          "33",
          "34",
          "35",
          "36",
          "37",
          "38",
          "39",
          "40",
          "41",
          "42",
          "43",
          "44",
          "45",
          "46",
          "47",
          "48",
          "49",
          "50"
         ],
         "type": "scatter",
         "uid": "1ed87d41-0f47-4c6e-94d4-38c550334941",
         "x": [
          1,
          2,
          3,
          4,
          5,
          6,
          7,
          8,
          9,
          10,
          11,
          12,
          13,
          14,
          15,
          16,
          17,
          18,
          19,
          20,
          21,
          22,
          23,
          24,
          25,
          26,
          27,
          28,
          29,
          30,
          31,
          32,
          33,
          34,
          35,
          36,
          37,
          38,
          39,
          40,
          41,
          42,
          43,
          44,
          45,
          46,
          47,
          48,
          49,
          50
         ],
         "xaxis": "x",
         "y": [
          0.723437488079071,
          0.8260208368301392,
          0.8517500162124634,
          0.8652291893959045,
          0.8741875290870667,
          0.8805833458900452,
          0.8849791884422302,
          0.8878541588783264,
          0.895270824432373,
          0.8950625061988831,
          0.898104190826416,
          0.9000416398048401,
          0.9035416841506958,
          0.9037083387374878,
          0.9060624837875366,
          0.9072083234786987,
          0.9083333611488342,
          0.9106666445732117,
          0.9113958477973938,
          0.9130625128746033,
          0.9140416383743286,
          0.9150208234786987,
          0.9144166707992554,
          0.9157500267028809,
          0.9176666736602783,
          0.9155625104904175,
          0.916979193687439,
          0.9199583530426025,
          0.9198541641235352,
          0.9204166531562805,
          0.9201041460037231,
          0.9223958253860474,
          0.9236458539962769,
          0.9235000014305115,
          0.9224791526794434,
          0.9242500066757202,
          0.9238541722297668,
          0.9243749976158142,
          0.9240208268165588,
          0.9253125190734863,
          0.9273541569709778,
          0.9263749718666077,
          0.9276250004768372,
          0.9276666641235352,
          0.9275624752044678,
          0.9282916784286499,
          0.9301875233650208,
          0.9277291893959045,
          0.9281874895095825,
          0.9291666746139526
         ],
         "yaxis": "y"
        },
        {
         "marker": {
          "color": "Red"
         },
         "mode": "markers+lines",
         "name": "Validation accuracy",
         "text": [
          "1",
          "2",
          "3",
          "4",
          "5",
          "6",
          "7",
          "8",
          "9",
          "10",
          "11",
          "12",
          "13",
          "14",
          "15",
          "16",
          "17",
          "18",
          "19",
          "20",
          "21",
          "22",
          "23",
          "24",
          "25",
          "26",
          "27",
          "28",
          "29",
          "30",
          "31",
          "32",
          "33",
          "34",
          "35",
          "36",
          "37",
          "38",
          "39",
          "40",
          "41",
          "42",
          "43",
          "44",
          "45",
          "46",
          "47",
          "48",
          "49",
          "50"
         ],
         "type": "scatter",
         "uid": "e7c0b0f4-161f-4208-bbee-989607b96720",
         "x": [
          1,
          2,
          3,
          4,
          5,
          6,
          7,
          8,
          9,
          10,
          11,
          12,
          13,
          14,
          15,
          16,
          17,
          18,
          19,
          20,
          21,
          22,
          23,
          24,
          25,
          26,
          27,
          28,
          29,
          30,
          31,
          32,
          33,
          34,
          35,
          36,
          37,
          38,
          39,
          40,
          41,
          42,
          43,
          44,
          45,
          46,
          47,
          48,
          49,
          50
         ],
         "xaxis": "x",
         "y": [
          0.8335000276565552,
          0.8658333420753479,
          0.8807500004768372,
          0.8895000219345093,
          0.8920000195503235,
          0.8974999785423279,
          0.9002500176429749,
          0.9055833220481873,
          0.902999997138977,
          0.906583309173584,
          0.9100000262260437,
          0.9120833277702332,
          0.9125833511352539,
          0.9129166603088379,
          0.9096666574478149,
          0.9126666784286499,
          0.9135000109672546,
          0.9160000085830688,
          0.9143333435058594,
          0.9163333177566528,
          0.9154166579246521,
          0.9161666631698608,
          0.9158333539962769,
          0.9150000214576721,
          0.9192500114440918,
          0.9139166474342346,
          0.9194166660308838,
          0.9210833311080933,
          0.9194166660308838,
          0.9204999804496765,
          0.9194999933242798,
          0.9192500114440918,
          0.9199166893959045,
          0.9210833311080933,
          0.9203333258628845,
          0.9207500219345093,
          0.9211666584014893,
          0.9185000061988831,
          0.9210833311080933,
          0.921750009059906,
          0.9240000247955322,
          0.9246666431427002,
          0.9265000224113464,
          0.9210833311080933,
          0.9226666688919067,
          0.9209166765213013,
          0.921500027179718,
          0.9235833287239075,
          0.921750009059906,
          0.9231666922569275
         ],
         "yaxis": "y"
        },
        {
         "marker": {
          "color": "Blue"
         },
         "mode": "markers+lines",
         "name": "Training loss",
         "text": [
          "1",
          "2",
          "3",
          "4",
          "5",
          "6",
          "7",
          "8",
          "9",
          "10",
          "11",
          "12",
          "13",
          "14",
          "15",
          "16",
          "17",
          "18",
          "19",
          "20",
          "21",
          "22",
          "23",
          "24",
          "25",
          "26",
          "27",
          "28",
          "29",
          "30",
          "31",
          "32",
          "33",
          "34",
          "35",
          "36",
          "37",
          "38",
          "39",
          "40",
          "41",
          "42",
          "43",
          "44",
          "45",
          "46",
          "47",
          "48",
          "49",
          "50"
         ],
         "type": "scatter",
         "uid": "16b8cc0f-aa7f-4936-b9c8-20bdd5e32a94",
         "x": [
          1,
          2,
          3,
          4,
          5,
          6,
          7,
          8,
          9,
          10,
          11,
          12,
          13,
          14,
          15,
          16,
          17,
          18,
          19,
          20,
          21,
          22,
          23,
          24,
          25,
          26,
          27,
          28,
          29,
          30,
          31,
          32,
          33,
          34,
          35,
          36,
          37,
          38,
          39,
          40,
          41,
          42,
          43,
          44,
          45,
          46,
          47,
          48,
          49,
          50
         ],
         "xaxis": "x2",
         "y": [
          0.741697632710139,
          0.47481661454836527,
          0.40569689917564394,
          0.3701256336371104,
          0.3448981718619665,
          0.3272929780483246,
          0.31240644999345146,
          0.30053326952457426,
          0.28787967600425085,
          0.28427378710110984,
          0.27288606389363607,
          0.26983406680822375,
          0.26265493627389275,
          0.261170124967893,
          0.2549783983627955,
          0.24814266222715378,
          0.24779975336790086,
          0.24100938640038172,
          0.23693063336610795,
          0.2336513371070226,
          0.22793388626972835,
          0.23001503638426463,
          0.22605235360066095,
          0.22477924680709838,
          0.22038118370374044,
          0.22303732055425643,
          0.21781668887535732,
          0.21222170752286912,
          0.2129222235282262,
          0.20826512014865875,
          0.21122755416234335,
          0.20624372977018357,
          0.20471096696456273,
          0.2034080169002215,
          0.20613103622198106,
          0.19987379904588062,
          0.20093019612630209,
          0.19759523558616637,
          0.19929256602128348,
          0.19624157057205835,
          0.19447662103176117,
          0.19411052725712458,
          0.19177659255266188,
          0.19162712778647742,
          0.19115968747933706,
          0.18980962204933166,
          0.18543415419260662,
          0.18952042750517528,
          0.19014087076981862,
          0.18632807598511378
         ],
         "yaxis": "y2"
        },
        {
         "marker": {
          "color": "Magenta"
         },
         "mode": "markers+lines",
         "name": "Validation loss",
         "text": [
          "1",
          "2",
          "3",
          "4",
          "5",
          "6",
          "7",
          "8",
          "9",
          "10",
          "11",
          "12",
          "13",
          "14",
          "15",
          "16",
          "17",
          "18",
          "19",
          "20",
          "21",
          "22",
          "23",
          "24",
          "25",
          "26",
          "27",
          "28",
          "29",
          "30",
          "31",
          "32",
          "33",
          "34",
          "35",
          "36",
          "37",
          "38",
          "39",
          "40",
          "41",
          "42",
          "43",
          "44",
          "45",
          "46",
          "47",
          "48",
          "49",
          "50"
         ],
         "type": "scatter",
         "uid": "490a9c80-f551-4050-a48a-a4ac07b30780",
         "x": [
          1,
          2,
          3,
          4,
          5,
          6,
          7,
          8,
          9,
          10,
          11,
          12,
          13,
          14,
          15,
          16,
          17,
          18,
          19,
          20,
          21,
          22,
          23,
          24,
          25,
          26,
          27,
          28,
          29,
          30,
          31,
          32,
          33,
          34,
          35,
          36,
          37,
          38,
          39,
          40,
          41,
          42,
          43,
          44,
          45,
          46,
          47,
          48,
          49,
          50
         ],
         "xaxis": "x2",
         "y": [
          0.4545149738788605,
          0.3747327953974406,
          0.3279034527937571,
          0.30698271799087523,
          0.2951065975030263,
          0.28075630430380505,
          0.2755266911188761,
          0.26062516486644743,
          0.2679710435072581,
          0.2569531798362732,
          0.2508716427087784,
          0.2456836310227712,
          0.24363595072428385,
          0.240055277744929,
          0.24523473064104717,
          0.237602889418602,
          0.24078529381752015,
          0.23160582836469015,
          0.23676841553052266,
          0.23463095104694368,
          0.23429723699887595,
          0.2369505643049876,
          0.2315965769290924,
          0.23358069356282551,
          0.2279074213107427,
          0.2333783000310262,
          0.22622196817398071,
          0.2269998851219813,
          0.22474926777680715,
          0.22389264067014059,
          0.2254725002447764,
          0.22373997457822165,
          0.2218769063949585,
          0.2238801212310791,
          0.22645482436815897,
          0.22658943537871043,
          0.2224619210958481,
          0.231692045489947,
          0.2212300918896993,
          0.22354359829425813,
          0.21869386144479117,
          0.2184996056755384,
          0.21956240983804068,
          0.22522292176882425,
          0.2194728914896647,
          0.2229473079442978,
          0.22166912770271302,
          0.21576014614105224,
          0.2165909679730733,
          0.2192424015601476
         ],
         "yaxis": "y2"
        }
       ],
       "layout": {
        "annotations": [
         {
          "font": {
           "size": 16
          },
          "showarrow": false,
          "text": "Training and validation accuracy",
          "x": 0.225,
          "xanchor": "center",
          "xref": "paper",
          "y": 1,
          "yanchor": "bottom",
          "yref": "paper"
         },
         {
          "font": {
           "size": 16
          },
          "showarrow": false,
          "text": "Training and validation loss",
          "x": 0.775,
          "xanchor": "center",
          "xref": "paper",
          "y": 1,
          "yanchor": "bottom",
          "yref": "paper"
         }
        ],
        "xaxis": {
         "anchor": "y",
         "domain": [
          0,
          0.45
         ],
         "title": "Epoch"
        },
        "xaxis2": {
         "anchor": "y2",
         "domain": [
          0.55,
          1
         ],
         "title": "Epoch"
        },
        "yaxis": {
         "anchor": "x",
         "domain": [
          0,
          1
         ],
         "range": [
          0,
          1
         ],
         "title": "Accuracy"
        },
        "yaxis2": {
         "anchor": "x2",
         "domain": [
          0,
          1
         ],
         "range": [
          0,
          1
         ],
         "title": "Loss"
        }
       }
      },
      "text/html": [
       "<div id=\"fdeb3eb0-fd74-4e48-a460-a984ead201d2\" style=\"height: 525px; width: 100%;\" class=\"plotly-graph-div\"></div><script type=\"text/javascript\">require([\"plotly\"], function(Plotly) { window.PLOTLYENV=window.PLOTLYENV || {};window.PLOTLYENV.BASE_URL=\"https://plot.ly\";Plotly.newPlot(\"fdeb3eb0-fd74-4e48-a460-a984ead201d2\", [{\"marker\": {\"color\": \"Green\"}, \"mode\": \"markers+lines\", \"name\": \"Training accuracy\", \"text\": [\"1\", \"2\", \"3\", \"4\", \"5\", \"6\", \"7\", \"8\", \"9\", \"10\", \"11\", \"12\", \"13\", \"14\", \"15\", \"16\", \"17\", \"18\", \"19\", \"20\", \"21\", \"22\", \"23\", \"24\", \"25\", \"26\", \"27\", \"28\", \"29\", \"30\", \"31\", \"32\", \"33\", \"34\", \"35\", \"36\", \"37\", \"38\", \"39\", \"40\", \"41\", \"42\", \"43\", \"44\", \"45\", \"46\", \"47\", \"48\", \"49\", \"50\"], \"x\": [1, 2, 3, 4, 5, 6, 7, 8, 9, 10, 11, 12, 13, 14, 15, 16, 17, 18, 19, 20, 21, 22, 23, 24, 25, 26, 27, 28, 29, 30, 31, 32, 33, 34, 35, 36, 37, 38, 39, 40, 41, 42, 43, 44, 45, 46, 47, 48, 49, 50], \"y\": [0.723437488079071, 0.8260208368301392, 0.8517500162124634, 0.8652291893959045, 0.8741875290870667, 0.8805833458900452, 0.8849791884422302, 0.8878541588783264, 0.895270824432373, 0.8950625061988831, 0.898104190826416, 0.9000416398048401, 0.9035416841506958, 0.9037083387374878, 0.9060624837875366, 0.9072083234786987, 0.9083333611488342, 0.9106666445732117, 0.9113958477973938, 0.9130625128746033, 0.9140416383743286, 0.9150208234786987, 0.9144166707992554, 0.9157500267028809, 0.9176666736602783, 0.9155625104904175, 0.916979193687439, 0.9199583530426025, 0.9198541641235352, 0.9204166531562805, 0.9201041460037231, 0.9223958253860474, 0.9236458539962769, 0.9235000014305115, 0.9224791526794434, 0.9242500066757202, 0.9238541722297668, 0.9243749976158142, 0.9240208268165588, 0.9253125190734863, 0.9273541569709778, 0.9263749718666077, 0.9276250004768372, 0.9276666641235352, 0.9275624752044678, 0.9282916784286499, 0.9301875233650208, 0.9277291893959045, 0.9281874895095825, 0.9291666746139526], \"type\": \"scatter\", \"uid\": \"1ed87d41-0f47-4c6e-94d4-38c550334941\", \"xaxis\": \"x\", \"yaxis\": \"y\"}, {\"marker\": {\"color\": \"Red\"}, \"mode\": \"markers+lines\", \"name\": \"Validation accuracy\", \"text\": [\"1\", \"2\", \"3\", \"4\", \"5\", \"6\", \"7\", \"8\", \"9\", \"10\", \"11\", \"12\", \"13\", \"14\", \"15\", \"16\", \"17\", \"18\", \"19\", \"20\", \"21\", \"22\", \"23\", \"24\", \"25\", \"26\", \"27\", \"28\", \"29\", \"30\", \"31\", \"32\", \"33\", \"34\", \"35\", \"36\", \"37\", \"38\", \"39\", \"40\", \"41\", \"42\", \"43\", \"44\", \"45\", \"46\", \"47\", \"48\", \"49\", \"50\"], \"x\": [1, 2, 3, 4, 5, 6, 7, 8, 9, 10, 11, 12, 13, 14, 15, 16, 17, 18, 19, 20, 21, 22, 23, 24, 25, 26, 27, 28, 29, 30, 31, 32, 33, 34, 35, 36, 37, 38, 39, 40, 41, 42, 43, 44, 45, 46, 47, 48, 49, 50], \"y\": [0.8335000276565552, 0.8658333420753479, 0.8807500004768372, 0.8895000219345093, 0.8920000195503235, 0.8974999785423279, 0.9002500176429749, 0.9055833220481873, 0.902999997138977, 0.906583309173584, 0.9100000262260437, 0.9120833277702332, 0.9125833511352539, 0.9129166603088379, 0.9096666574478149, 0.9126666784286499, 0.9135000109672546, 0.9160000085830688, 0.9143333435058594, 0.9163333177566528, 0.9154166579246521, 0.9161666631698608, 0.9158333539962769, 0.9150000214576721, 0.9192500114440918, 0.9139166474342346, 0.9194166660308838, 0.9210833311080933, 0.9194166660308838, 0.9204999804496765, 0.9194999933242798, 0.9192500114440918, 0.9199166893959045, 0.9210833311080933, 0.9203333258628845, 0.9207500219345093, 0.9211666584014893, 0.9185000061988831, 0.9210833311080933, 0.921750009059906, 0.9240000247955322, 0.9246666431427002, 0.9265000224113464, 0.9210833311080933, 0.9226666688919067, 0.9209166765213013, 0.921500027179718, 0.9235833287239075, 0.921750009059906, 0.9231666922569275], \"type\": \"scatter\", \"uid\": \"e7c0b0f4-161f-4208-bbee-989607b96720\", \"xaxis\": \"x\", \"yaxis\": \"y\"}, {\"marker\": {\"color\": \"Blue\"}, \"mode\": \"markers+lines\", \"name\": \"Training loss\", \"text\": [\"1\", \"2\", \"3\", \"4\", \"5\", \"6\", \"7\", \"8\", \"9\", \"10\", \"11\", \"12\", \"13\", \"14\", \"15\", \"16\", \"17\", \"18\", \"19\", \"20\", \"21\", \"22\", \"23\", \"24\", \"25\", \"26\", \"27\", \"28\", \"29\", \"30\", \"31\", \"32\", \"33\", \"34\", \"35\", \"36\", \"37\", \"38\", \"39\", \"40\", \"41\", \"42\", \"43\", \"44\", \"45\", \"46\", \"47\", \"48\", \"49\", \"50\"], \"x\": [1, 2, 3, 4, 5, 6, 7, 8, 9, 10, 11, 12, 13, 14, 15, 16, 17, 18, 19, 20, 21, 22, 23, 24, 25, 26, 27, 28, 29, 30, 31, 32, 33, 34, 35, 36, 37, 38, 39, 40, 41, 42, 43, 44, 45, 46, 47, 48, 49, 50], \"y\": [0.741697632710139, 0.47481661454836527, 0.40569689917564394, 0.3701256336371104, 0.3448981718619665, 0.3272929780483246, 0.31240644999345146, 0.30053326952457426, 0.28787967600425085, 0.28427378710110984, 0.27288606389363607, 0.26983406680822375, 0.26265493627389275, 0.261170124967893, 0.2549783983627955, 0.24814266222715378, 0.24779975336790086, 0.24100938640038172, 0.23693063336610795, 0.2336513371070226, 0.22793388626972835, 0.23001503638426463, 0.22605235360066095, 0.22477924680709838, 0.22038118370374044, 0.22303732055425643, 0.21781668887535732, 0.21222170752286912, 0.2129222235282262, 0.20826512014865875, 0.21122755416234335, 0.20624372977018357, 0.20471096696456273, 0.2034080169002215, 0.20613103622198106, 0.19987379904588062, 0.20093019612630209, 0.19759523558616637, 0.19929256602128348, 0.19624157057205835, 0.19447662103176117, 0.19411052725712458, 0.19177659255266188, 0.19162712778647742, 0.19115968747933706, 0.18980962204933166, 0.18543415419260662, 0.18952042750517528, 0.19014087076981862, 0.18632807598511378], \"type\": \"scatter\", \"uid\": \"16b8cc0f-aa7f-4936-b9c8-20bdd5e32a94\", \"xaxis\": \"x2\", \"yaxis\": \"y2\"}, {\"marker\": {\"color\": \"Magenta\"}, \"mode\": \"markers+lines\", \"name\": \"Validation loss\", \"text\": [\"1\", \"2\", \"3\", \"4\", \"5\", \"6\", \"7\", \"8\", \"9\", \"10\", \"11\", \"12\", \"13\", \"14\", \"15\", \"16\", \"17\", \"18\", \"19\", \"20\", \"21\", \"22\", \"23\", \"24\", \"25\", \"26\", \"27\", \"28\", \"29\", \"30\", \"31\", \"32\", \"33\", \"34\", \"35\", \"36\", \"37\", \"38\", \"39\", \"40\", \"41\", \"42\", \"43\", \"44\", \"45\", \"46\", \"47\", \"48\", \"49\", \"50\"], \"x\": [1, 2, 3, 4, 5, 6, 7, 8, 9, 10, 11, 12, 13, 14, 15, 16, 17, 18, 19, 20, 21, 22, 23, 24, 25, 26, 27, 28, 29, 30, 31, 32, 33, 34, 35, 36, 37, 38, 39, 40, 41, 42, 43, 44, 45, 46, 47, 48, 49, 50], \"y\": [0.4545149738788605, 0.3747327953974406, 0.3279034527937571, 0.30698271799087523, 0.2951065975030263, 0.28075630430380505, 0.2755266911188761, 0.26062516486644743, 0.2679710435072581, 0.2569531798362732, 0.2508716427087784, 0.2456836310227712, 0.24363595072428385, 0.240055277744929, 0.24523473064104717, 0.237602889418602, 0.24078529381752015, 0.23160582836469015, 0.23676841553052266, 0.23463095104694368, 0.23429723699887595, 0.2369505643049876, 0.2315965769290924, 0.23358069356282551, 0.2279074213107427, 0.2333783000310262, 0.22622196817398071, 0.2269998851219813, 0.22474926777680715, 0.22389264067014059, 0.2254725002447764, 0.22373997457822165, 0.2218769063949585, 0.2238801212310791, 0.22645482436815897, 0.22658943537871043, 0.2224619210958481, 0.231692045489947, 0.2212300918896993, 0.22354359829425813, 0.21869386144479117, 0.2184996056755384, 0.21956240983804068, 0.22522292176882425, 0.2194728914896647, 0.2229473079442978, 0.22166912770271302, 0.21576014614105224, 0.2165909679730733, 0.2192424015601476], \"type\": \"scatter\", \"uid\": \"490a9c80-f551-4050-a48a-a4ac07b30780\", \"xaxis\": \"x2\", \"yaxis\": \"y2\"}], {\"annotations\": [{\"font\": {\"size\": 16}, \"showarrow\": false, \"text\": \"Training and validation accuracy\", \"x\": 0.225, \"xanchor\": \"center\", \"xref\": \"paper\", \"y\": 1.0, \"yanchor\": \"bottom\", \"yref\": \"paper\"}, {\"font\": {\"size\": 16}, \"showarrow\": false, \"text\": \"Training and validation loss\", \"x\": 0.775, \"xanchor\": \"center\", \"xref\": \"paper\", \"y\": 1.0, \"yanchor\": \"bottom\", \"yref\": \"paper\"}], \"xaxis\": {\"anchor\": \"y\", \"domain\": [0.0, 0.45], \"title\": \"Epoch\"}, \"yaxis\": {\"anchor\": \"x\", \"domain\": [0.0, 1.0], \"title\": \"Accuracy\", \"range\": [0, 1]}, \"xaxis2\": {\"anchor\": \"y2\", \"domain\": [0.55, 1.0], \"title\": \"Epoch\"}, \"yaxis2\": {\"anchor\": \"x2\", \"domain\": [0.0, 1.0], \"title\": \"Loss\", \"range\": [0, 1]}}, {\"showLink\": true, \"linkText\": \"Export to plot.ly\"})});</script><script type=\"text/javascript\">window.addEventListener(\"resize\", function(){window._Plotly.Plots.resize(document.getElementById(\"fdeb3eb0-fd74-4e48-a460-a984ead201d2\"));});</script>"
      ],
      "text/vnd.plotly.v1+html": [
       "<div id=\"fdeb3eb0-fd74-4e48-a460-a984ead201d2\" style=\"height: 525px; width: 100%;\" class=\"plotly-graph-div\"></div><script type=\"text/javascript\">require([\"plotly\"], function(Plotly) { window.PLOTLYENV=window.PLOTLYENV || {};window.PLOTLYENV.BASE_URL=\"https://plot.ly\";Plotly.newPlot(\"fdeb3eb0-fd74-4e48-a460-a984ead201d2\", [{\"marker\": {\"color\": \"Green\"}, \"mode\": \"markers+lines\", \"name\": \"Training accuracy\", \"text\": [\"1\", \"2\", \"3\", \"4\", \"5\", \"6\", \"7\", \"8\", \"9\", \"10\", \"11\", \"12\", \"13\", \"14\", \"15\", \"16\", \"17\", \"18\", \"19\", \"20\", \"21\", \"22\", \"23\", \"24\", \"25\", \"26\", \"27\", \"28\", \"29\", \"30\", \"31\", \"32\", \"33\", \"34\", \"35\", \"36\", \"37\", \"38\", \"39\", \"40\", \"41\", \"42\", \"43\", \"44\", \"45\", \"46\", \"47\", \"48\", \"49\", \"50\"], \"x\": [1, 2, 3, 4, 5, 6, 7, 8, 9, 10, 11, 12, 13, 14, 15, 16, 17, 18, 19, 20, 21, 22, 23, 24, 25, 26, 27, 28, 29, 30, 31, 32, 33, 34, 35, 36, 37, 38, 39, 40, 41, 42, 43, 44, 45, 46, 47, 48, 49, 50], \"y\": [0.723437488079071, 0.8260208368301392, 0.8517500162124634, 0.8652291893959045, 0.8741875290870667, 0.8805833458900452, 0.8849791884422302, 0.8878541588783264, 0.895270824432373, 0.8950625061988831, 0.898104190826416, 0.9000416398048401, 0.9035416841506958, 0.9037083387374878, 0.9060624837875366, 0.9072083234786987, 0.9083333611488342, 0.9106666445732117, 0.9113958477973938, 0.9130625128746033, 0.9140416383743286, 0.9150208234786987, 0.9144166707992554, 0.9157500267028809, 0.9176666736602783, 0.9155625104904175, 0.916979193687439, 0.9199583530426025, 0.9198541641235352, 0.9204166531562805, 0.9201041460037231, 0.9223958253860474, 0.9236458539962769, 0.9235000014305115, 0.9224791526794434, 0.9242500066757202, 0.9238541722297668, 0.9243749976158142, 0.9240208268165588, 0.9253125190734863, 0.9273541569709778, 0.9263749718666077, 0.9276250004768372, 0.9276666641235352, 0.9275624752044678, 0.9282916784286499, 0.9301875233650208, 0.9277291893959045, 0.9281874895095825, 0.9291666746139526], \"type\": \"scatter\", \"uid\": \"1ed87d41-0f47-4c6e-94d4-38c550334941\", \"xaxis\": \"x\", \"yaxis\": \"y\"}, {\"marker\": {\"color\": \"Red\"}, \"mode\": \"markers+lines\", \"name\": \"Validation accuracy\", \"text\": [\"1\", \"2\", \"3\", \"4\", \"5\", \"6\", \"7\", \"8\", \"9\", \"10\", \"11\", \"12\", \"13\", \"14\", \"15\", \"16\", \"17\", \"18\", \"19\", \"20\", \"21\", \"22\", \"23\", \"24\", \"25\", \"26\", \"27\", \"28\", \"29\", \"30\", \"31\", \"32\", \"33\", \"34\", \"35\", \"36\", \"37\", \"38\", \"39\", \"40\", \"41\", \"42\", \"43\", \"44\", \"45\", \"46\", \"47\", \"48\", \"49\", \"50\"], \"x\": [1, 2, 3, 4, 5, 6, 7, 8, 9, 10, 11, 12, 13, 14, 15, 16, 17, 18, 19, 20, 21, 22, 23, 24, 25, 26, 27, 28, 29, 30, 31, 32, 33, 34, 35, 36, 37, 38, 39, 40, 41, 42, 43, 44, 45, 46, 47, 48, 49, 50], \"y\": [0.8335000276565552, 0.8658333420753479, 0.8807500004768372, 0.8895000219345093, 0.8920000195503235, 0.8974999785423279, 0.9002500176429749, 0.9055833220481873, 0.902999997138977, 0.906583309173584, 0.9100000262260437, 0.9120833277702332, 0.9125833511352539, 0.9129166603088379, 0.9096666574478149, 0.9126666784286499, 0.9135000109672546, 0.9160000085830688, 0.9143333435058594, 0.9163333177566528, 0.9154166579246521, 0.9161666631698608, 0.9158333539962769, 0.9150000214576721, 0.9192500114440918, 0.9139166474342346, 0.9194166660308838, 0.9210833311080933, 0.9194166660308838, 0.9204999804496765, 0.9194999933242798, 0.9192500114440918, 0.9199166893959045, 0.9210833311080933, 0.9203333258628845, 0.9207500219345093, 0.9211666584014893, 0.9185000061988831, 0.9210833311080933, 0.921750009059906, 0.9240000247955322, 0.9246666431427002, 0.9265000224113464, 0.9210833311080933, 0.9226666688919067, 0.9209166765213013, 0.921500027179718, 0.9235833287239075, 0.921750009059906, 0.9231666922569275], \"type\": \"scatter\", \"uid\": \"e7c0b0f4-161f-4208-bbee-989607b96720\", \"xaxis\": \"x\", \"yaxis\": \"y\"}, {\"marker\": {\"color\": \"Blue\"}, \"mode\": \"markers+lines\", \"name\": \"Training loss\", \"text\": [\"1\", \"2\", \"3\", \"4\", \"5\", \"6\", \"7\", \"8\", \"9\", \"10\", \"11\", \"12\", \"13\", \"14\", \"15\", \"16\", \"17\", \"18\", \"19\", \"20\", \"21\", \"22\", \"23\", \"24\", \"25\", \"26\", \"27\", \"28\", \"29\", \"30\", \"31\", \"32\", \"33\", \"34\", \"35\", \"36\", \"37\", \"38\", \"39\", \"40\", \"41\", \"42\", \"43\", \"44\", \"45\", \"46\", \"47\", \"48\", \"49\", \"50\"], \"x\": [1, 2, 3, 4, 5, 6, 7, 8, 9, 10, 11, 12, 13, 14, 15, 16, 17, 18, 19, 20, 21, 22, 23, 24, 25, 26, 27, 28, 29, 30, 31, 32, 33, 34, 35, 36, 37, 38, 39, 40, 41, 42, 43, 44, 45, 46, 47, 48, 49, 50], \"y\": [0.741697632710139, 0.47481661454836527, 0.40569689917564394, 0.3701256336371104, 0.3448981718619665, 0.3272929780483246, 0.31240644999345146, 0.30053326952457426, 0.28787967600425085, 0.28427378710110984, 0.27288606389363607, 0.26983406680822375, 0.26265493627389275, 0.261170124967893, 0.2549783983627955, 0.24814266222715378, 0.24779975336790086, 0.24100938640038172, 0.23693063336610795, 0.2336513371070226, 0.22793388626972835, 0.23001503638426463, 0.22605235360066095, 0.22477924680709838, 0.22038118370374044, 0.22303732055425643, 0.21781668887535732, 0.21222170752286912, 0.2129222235282262, 0.20826512014865875, 0.21122755416234335, 0.20624372977018357, 0.20471096696456273, 0.2034080169002215, 0.20613103622198106, 0.19987379904588062, 0.20093019612630209, 0.19759523558616637, 0.19929256602128348, 0.19624157057205835, 0.19447662103176117, 0.19411052725712458, 0.19177659255266188, 0.19162712778647742, 0.19115968747933706, 0.18980962204933166, 0.18543415419260662, 0.18952042750517528, 0.19014087076981862, 0.18632807598511378], \"type\": \"scatter\", \"uid\": \"16b8cc0f-aa7f-4936-b9c8-20bdd5e32a94\", \"xaxis\": \"x2\", \"yaxis\": \"y2\"}, {\"marker\": {\"color\": \"Magenta\"}, \"mode\": \"markers+lines\", \"name\": \"Validation loss\", \"text\": [\"1\", \"2\", \"3\", \"4\", \"5\", \"6\", \"7\", \"8\", \"9\", \"10\", \"11\", \"12\", \"13\", \"14\", \"15\", \"16\", \"17\", \"18\", \"19\", \"20\", \"21\", \"22\", \"23\", \"24\", \"25\", \"26\", \"27\", \"28\", \"29\", \"30\", \"31\", \"32\", \"33\", \"34\", \"35\", \"36\", \"37\", \"38\", \"39\", \"40\", \"41\", \"42\", \"43\", \"44\", \"45\", \"46\", \"47\", \"48\", \"49\", \"50\"], \"x\": [1, 2, 3, 4, 5, 6, 7, 8, 9, 10, 11, 12, 13, 14, 15, 16, 17, 18, 19, 20, 21, 22, 23, 24, 25, 26, 27, 28, 29, 30, 31, 32, 33, 34, 35, 36, 37, 38, 39, 40, 41, 42, 43, 44, 45, 46, 47, 48, 49, 50], \"y\": [0.4545149738788605, 0.3747327953974406, 0.3279034527937571, 0.30698271799087523, 0.2951065975030263, 0.28075630430380505, 0.2755266911188761, 0.26062516486644743, 0.2679710435072581, 0.2569531798362732, 0.2508716427087784, 0.2456836310227712, 0.24363595072428385, 0.240055277744929, 0.24523473064104717, 0.237602889418602, 0.24078529381752015, 0.23160582836469015, 0.23676841553052266, 0.23463095104694368, 0.23429723699887595, 0.2369505643049876, 0.2315965769290924, 0.23358069356282551, 0.2279074213107427, 0.2333783000310262, 0.22622196817398071, 0.2269998851219813, 0.22474926777680715, 0.22389264067014059, 0.2254725002447764, 0.22373997457822165, 0.2218769063949585, 0.2238801212310791, 0.22645482436815897, 0.22658943537871043, 0.2224619210958481, 0.231692045489947, 0.2212300918896993, 0.22354359829425813, 0.21869386144479117, 0.2184996056755384, 0.21956240983804068, 0.22522292176882425, 0.2194728914896647, 0.2229473079442978, 0.22166912770271302, 0.21576014614105224, 0.2165909679730733, 0.2192424015601476], \"type\": \"scatter\", \"uid\": \"490a9c80-f551-4050-a48a-a4ac07b30780\", \"xaxis\": \"x2\", \"yaxis\": \"y2\"}], {\"annotations\": [{\"font\": {\"size\": 16}, \"showarrow\": false, \"text\": \"Training and validation accuracy\", \"x\": 0.225, \"xanchor\": \"center\", \"xref\": \"paper\", \"y\": 1.0, \"yanchor\": \"bottom\", \"yref\": \"paper\"}, {\"font\": {\"size\": 16}, \"showarrow\": false, \"text\": \"Training and validation loss\", \"x\": 0.775, \"xanchor\": \"center\", \"xref\": \"paper\", \"y\": 1.0, \"yanchor\": \"bottom\", \"yref\": \"paper\"}], \"xaxis\": {\"anchor\": \"y\", \"domain\": [0.0, 0.45], \"title\": \"Epoch\"}, \"yaxis\": {\"anchor\": \"x\", \"domain\": [0.0, 1.0], \"title\": \"Accuracy\", \"range\": [0, 1]}, \"xaxis2\": {\"anchor\": \"y2\", \"domain\": [0.55, 1.0], \"title\": \"Epoch\"}, \"yaxis2\": {\"anchor\": \"x2\", \"domain\": [0.0, 1.0], \"title\": \"Loss\", \"range\": [0, 1]}}, {\"showLink\": true, \"linkText\": \"Export to plot.ly\"})});</script><script type=\"text/javascript\">window.addEventListener(\"resize\", function(){window._Plotly.Plots.resize(document.getElementById(\"fdeb3eb0-fd74-4e48-a460-a984ead201d2\"));});</script>"
      ]
     },
     "metadata": {},
     "output_type": "display_data"
    }
   ],
   "source": [
    "plot_accuracy_and_loss(train_model)\n"
   ]
  },
  {
   "cell_type": "markdown",
   "metadata": {},
   "source": [
    "The validation loss is at a much better standing now, we can move forward with the testing data."
   ]
  },
  {
   "cell_type": "code",
   "execution_count": 42,
   "metadata": {},
   "outputs": [
    {
     "name": "stdout",
     "output_type": "stream",
     "text": [
      "Test loss: 0.2070095078483224\n",
      "Test accuracy: 0.9262\n"
     ]
    }
   ],
   "source": [
    "score = model.evaluate(X_test, y_test, verbose=0)\n",
    "print('Test loss:', score[0])\n",
    "print('Test accuracy:', score[1])"
   ]
  },
  {
   "cell_type": "markdown",
   "metadata": {},
   "source": [
    "The test accuracy is also satisfactory, sitting at 93% when rounded up. "
   ]
  },
  {
   "cell_type": "code",
   "execution_count": 43,
   "metadata": {},
   "outputs": [],
   "source": [
    "#get the predictions for the test data\n",
    "predicted_classes = model.predict_classes(X_test)\n",
    "#get the indices to be plotted\n",
    "y_true = test_data.iloc[:, 0]"
   ]
  },
  {
   "cell_type": "code",
   "execution_count": 44,
   "metadata": {},
   "outputs": [],
   "source": [
    "p = predicted_classes[:10000]\n",
    "y = y_true[:10000]\n",
    "correct = np.nonzero(p==y)[0]\n",
    "incorrect = np.nonzero(p!=y)[0]"
   ]
  },
  {
   "cell_type": "code",
   "execution_count": 45,
   "metadata": {},
   "outputs": [
    {
     "name": "stdout",
     "output_type": "stream",
     "text": [
      "Correct predicted classes: 9262\n",
      "Incorrect predicted classes: 738\n"
     ]
    }
   ],
   "source": [
    "print(\"Correct predicted classes:\",correct.shape[0])\n",
    "print(\"Incorrect predicted classes:\",incorrect.shape[0])"
   ]
  },
  {
   "cell_type": "code",
   "execution_count": 47,
   "metadata": {},
   "outputs": [
    {
     "name": "stdout",
     "output_type": "stream",
     "text": [
      "                         precision    recall  f1-score   support\n",
      "\n",
      "Class 0 (T-shirt/top) :       0.89      0.86      0.88      1000\n",
      "    Class 1 (Trouser) :       0.99      0.99      0.99      1000\n",
      "   Class 2 (Pullover) :       0.92      0.84      0.88      1000\n",
      "      Class 3 (Dress) :       0.94      0.94      0.94      1000\n",
      "       Class 4 (Coat) :       0.87      0.91      0.89      1000\n",
      "     Class 5 (Sandal) :       0.99      0.97      0.98      1000\n",
      "      Class 6 (Shirt) :       0.77      0.82      0.80      1000\n",
      "    Class 7 (Sneaker) :       0.94      0.98      0.96      1000\n",
      "        Class 8 (Bag) :       0.99      0.99      0.99      1000\n",
      " Class 9 (Ankle Boot) :       0.98      0.97      0.97      1000\n",
      "\n",
      "              micro avg       0.93      0.93      0.93     10000\n",
      "              macro avg       0.93      0.93      0.93     10000\n",
      "           weighted avg       0.93      0.93      0.93     10000\n",
      "\n"
     ]
    }
   ],
   "source": [
    "target_names = [\"Class {} ({}) :\".format(i,labels[i]) for i in range(num_classes)]\n",
    "print(classification_report(y_true, predicted_classes, target_names=target_names))"
   ]
  },
  {
   "cell_type": "markdown",
   "metadata": {},
   "source": [
    "Lets have a look at the correctly classified images"
   ]
  },
  {
   "cell_type": "code",
   "execution_count": 49,
   "metadata": {},
   "outputs": [
    {
     "data": {
      "image/png": "[encoded data removed]",
      "text/plain": [
       "<Figure size 1080x1080 with 16 Axes>"
      ]
     },
     "metadata": {
      "needs_background": "light"
     },
     "output_type": "display_data"
    }
   ],
   "source": [
    "def plot_images(data_index,cmap=\"Blues\"):\n",
    "    # Plot the sample images now\n",
    "    f, ax = plt.subplots(4,4, figsize=(15,15))\n",
    "\n",
    "    for i, indx in enumerate(data_index[:16]):\n",
    "        ax[i//4, i%4].imshow(X_test[indx].reshape(img_rows,img_cols), cmap=cmap)\n",
    "        ax[i//4, i%4].axis('off')\n",
    "        ax[i//4, i%4].set_title(\"True:{}  Pred:{}\".format(labels[y_true[indx]],labels[predicted_classes[indx]]))\n",
    "    plt.show()    \n",
    "    \n",
    "plot_images(correct, \"Greens\")"
   ]
  },
  {
   "cell_type": "markdown",
   "metadata": {},
   "source": [
    "Lets have a look at the incorrect work"
   ]
  },
  {
   "cell_type": "code",
   "execution_count": 50,
   "metadata": {},
   "outputs": [
    {
     "data": {
      "image/png": "[encoded data removed]",
      "text/plain": [
       "<Figure size 1080x1080 with 16 Axes>"
      ]
     },
     "metadata": {
      "needs_background": "light"
     },
     "output_type": "display_data"
    }
   ],
   "source": [
    "plot_images(incorrect, \"Reds\")"
   ]
  },
  {
   "cell_type": "markdown",
   "metadata": {},
   "source": [
    "## Final Thoughts"
   ]
  },
  {
   "cell_type": "markdown",
   "metadata": {},
   "source": [
    "The first attempt in the sequential model with multiple convolution layers  and 50 epochs for the training, we got 91% accuracy for the test prediction, however after having a look at the validation accuracy and loss it was determined that there was overfitting in the model. \n",
    "To counter this, we added Dropout layers to the model to reduce the overfitting, the results were significantly improved with 93% accuracy for test prediction and better validation."
   ]
  }
 ],
 "metadata": {
  "kernelspec": {
   "display_name": "Python 3",
   "language": "python",
   "name": "python3"
  },
  "language_info": {
   "codemirror_mode": {
    "name": "ipython",
    "version": 3
   },
   "file_extension": ".py",
   "mimetype": "text/x-python",
   "name": "python",
   "nbconvert_exporter": "python",
   "pygments_lexer": "ipython3",
   "version": "3.7.1"
  }
 },
 "nbformat": 4,
 "nbformat_minor": 2
}
